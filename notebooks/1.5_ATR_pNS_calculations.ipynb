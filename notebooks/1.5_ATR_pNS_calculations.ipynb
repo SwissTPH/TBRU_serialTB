{
 "cells": [
  {
   "cell_type": "markdown",
   "metadata": {},
   "source": [
    "# Proportion of nonsynonymous to synonymous mutations (pNS) in serial isolates from patients\n",
    "\n",
    "## APPROACH:\n",
    "In the past I've done this both over time as well as collating data for the two sets of patients. There is insufficient data to glean any information from time-based approaches, so I will focus only on combined data.\n",
    "\n",
    "Possible sources of null distributions: \n",
    "- simulations based on specific base substitution models,\n",
    "- annotations of sub 1.5% alleles,\n",
    "- annotations of error-rate dataset used for vSNP frequency cutoff estimations.\n",
    "\n",
    "The pNS calculations need a substitution matrix to derive the expected outcomes of mutagenesis under the assumption of neutrality. There are several <a href='https://en.wikipedia.org/wiki/Models_of_DNA_evolution'>nucleotide substitution models</a> that have been described, however all of them were designed to be used for evolutionary inference and therefore allow for the possibility of no mutation. If I am actually simulating the outcome of mutation this is not particularly useful. \n",
    "\n",
    "I can think of two approaches:\n",
    "1. treat the whole thing as a Markov model with the probability of no change fixed to 0. The remaining transition probabilities can then be estimated from data. \n",
    "2. Start from the Hasegawa, Kishino & Yano model [J Mol Evol (1985), <strong>22:</strong> <em>160-174</em>], which tries to control the output of the mutagenesis to mantain the genomic status quo. To do this it leverages observed base frequencies within the genome and accounts for the difference in the probability of transitions and transversions in biological systems.\n",
    "\n",
    "The next steps are then to:\n",
    "\n",
    "1. Calculate the base distribution for the CCDC5079 genome.\n",
    "2. Catalog <a href='https://en.wikipedia.org/wiki/Codon_degeneracy'>fourfold degenerate positions within codons</a> affected by fSNPs,\n",
    "3. Use FFD to empiricaly derive the transition probabilities for each possible mutation ($\\pi_{ij}$)\n",
    "\n",
    "$Q = \\left(\n",
    "\\begin{array}{cccc}\n",
    "0 & \\lambda_{TC} & \\lambda_{TA} & \\lambda_{TG} & \\\\\n",
    "\\lambda_{CT} & 0 & \\lambda_{CA} & \\lambda_{CG} & \\\\\n",
    "\\lambda_{AT} & \\lambda_{AC} & 0 & \\lambda_{AG} & \\\\\n",
    "\\lambda_{GT} & \\lambda_{GC} & \\lambda_{GA} & 0 & \\\\\n",
    "\\end{array} \\right)$\n",
    "\n",
    "After this we can use base frequencies and the probability of transition/transversion mutations to generate a more generic version of this idea (approach 2 above). In this iteration $\\alpha$=Pr(transition) correcponds to its respective substitution. While $\\beta$=Pr(transversion) and is weighed by the frequency of the target base as a proportion of its base type. $\\pi_T$, $\\pi_C$, $\\pi_A$, $\\pi_G$ are derived empirically and $\\pi_R=\\pi_A+\\pi_G$, $\\pi_Y=\\pi_C+\\pi_T$. The scaling with $\\pi_Y$ and $pi_R$ is only there to make sure that the probability of mutation summs up to 1.\n",
    "\n",
    "$Q = \\left(\n",
    "\\begin{array}{cccc}\n",
    "0 & \\alpha & \\beta\\frac{\\pi_A}{\\pi_R} & \\beta\\frac{\\pi_G}{\\pi_R} & \\\\\n",
    "\\alpha & 0 & \\beta\\frac{\\pi_A}{\\pi_R} & \\beta\\frac{\\pi_G}{\\pi_R} & \\\\\n",
    "\\beta\\frac{\\pi_T}{\\pi_Y} & \\beta\\frac{\\pi_C}{\\pi_Y} & 0 & \\alpha & \\\\\n",
    "\\beta\\frac{\\pi_T}{\\pi_Y} & \\beta\\frac{\\pi_C}{\\pi_Y} & \\alpha & 0 & \\\\\n",
    "\\end{array} \\right)$\n",
    "\n",
    "Once we've obtained these, we can:\n",
    "5. Use simulations to derive codon substitution matrices.\n",
    "6. Calculate the pNS using the codon substitution matrix for each timepoint for each sample. For vSNP and fSNP separately.\n",
    "7. Derive null distributions for each sample using one of the options above.\n",
    "\n",
    "## ANALYSIS\n",
    "Start by setting up the environment."
   ]
  },
  {
   "cell_type": "code",
   "execution_count": 1,
   "metadata": {
    "collapsed": true
   },
   "outputs": [],
   "source": [
    "#Python core packages\n",
    "from collections import Counter\n",
    "import string\n",
    "import pickle\n",
    "import datetime\n",
    "import warnings\n",
    "warnings.filterwarnings(\"ignore\")\n",
    "import random\n",
    "\n",
    "#Additional Python packages\n",
    "import tqdm\n",
    "\n",
    "#Scientific packages\n",
    "from scipy import stats as ss\n",
    "import numpy as np\n",
    "import matplotlib as mpl\n",
    "import matplotlib.pyplot as plt\n",
    "from sklearn import utils as sku\n",
    "import pandas as pd\n",
    "import statsmodels.api as sm\n",
    "import statsmodels.formula.api as smf\n",
    "\n",
    "mpl.style.use('classic')\n",
    "mpl.rcParams['font.family']='Arial'\n",
    "mpl.rcParams['legend.numpoints'] = 1\n",
    "\n",
    "%matplotlib inline"
   ]
  },
  {
   "cell_type": "code",
   "execution_count": 2,
   "metadata": {
    "collapsed": true
   },
   "outputs": [],
   "source": [
    "#FIGURE DETAILS\n",
    "tick_size = 8\n",
    "label_size = 10\n",
    "title_size = 10\n",
    "text_size = 8\n",
    "single_column_figure = (3.35,3.35)\n",
    "double_column_figure_r = (6.69,5)\n",
    "double_column_figure_s = (6.69,6.69)"
   ]
  },
  {
   "cell_type": "markdown",
   "metadata": {},
   "source": [
    "### GC content"
   ]
  },
  {
   "cell_type": "code",
   "execution_count": 2,
   "metadata": {
    "collapsed": true
   },
   "outputs": [],
   "source": [
    "#Get CCDC5079 genome sequence\n",
    "REFERENCE_PATH = '../data/external/'\n",
    "CCDC5079_GENOME = ''.join([line.strip() for line in open('{}NC_021251.fa'.format(REFERENCE_PATH)) if line[0]!='>'])"
   ]
  },
  {
   "cell_type": "markdown",
   "metadata": {},
   "source": [
    "Once we have the genome, we can calcualte the percentage of GC within it."
   ]
  },
  {
   "cell_type": "code",
   "execution_count": 3,
   "metadata": {
    "collapsed": false
   },
   "outputs": [
    {
     "name": "stdout",
     "output_type": "stream",
     "text": [
      "%A: 17.2, %C: 32.9, %G: 32.7, %T: 17.2\n"
     ]
    }
   ],
   "source": [
    "CCDC5079_counts = Counter(CCDC5079_GENOME)\n",
    "CCDC5079_size = len(CCDC5079_GENOME)\n",
    "\n",
    "pi_a = CCDC5079_counts['A']/CCDC5079_size\n",
    "pi_c = CCDC5079_counts['C']/CCDC5079_size\n",
    "pi_g = CCDC5079_counts['G']/CCDC5079_size\n",
    "pi_t = CCDC5079_counts['T']/CCDC5079_size\n",
    "\n",
    "print('%A: {0:0.1f}, %C: {1:0.1f}, %G: {2:0.1f}, %T: {3:0.1f}'.format(pi_a*100, pi_c*100, pi_g*100, pi_t*100))"
   ]
  },
  {
   "cell_type": "markdown",
   "metadata": {},
   "source": [
    "Looks like $\\pi_T\\approx\\pi_A$ and $\\pi_C\\approx\\pi_G$. Is this universal (quickly checked <em>E. coli</em> and <em>M. smegmatis</em> and it seems to be true for both of them. Question for another day though...\n",
    "\n",
    "### Transition probability\n",
    "Use the four-fold degenerate positions for fixed substitutions.\n",
    "\n",
    "We have annotated all fixed mutations found in our patients, the annotation file is stored as a pickle:"
   ]
  },
  {
   "cell_type": "code",
   "execution_count": 4,
   "metadata": {
    "collapsed": false
   },
   "outputs": [
    {
     "name": "stdout",
     "output_type": "stream",
     "text": [
      "2060037 [['CFBS09570-CFBS09575', 'IGR', '-', '---', '..260-132..', 1]]\n"
     ]
    }
   ],
   "source": [
    "#LOAD FIXED MUTATIONS\n",
    "INTERIM_PATH = '../data/interim/'\n",
    "FIXED_ANNOTATION_DICT = pickle.load(open('{}2_fixed_annotation.pkl'.format(INTERIM_PATH),'rb'))\n",
    "\n",
    "for k,v in FIXED_ANNOTATION_DICT.items():\n",
    "    pass\n",
    "\n",
    "print(k,v)"
   ]
  },
  {
   "cell_type": "markdown",
   "metadata": {},
   "source": [
    "The key stands for the LOCUS, and values contain a list of annotations that occured for SNPs at that locus. If the same locus is mutated in multiple strains there will be several entries. The items in the value list are also lists with the following content:\n",
    "\n",
    "- [0] LOCUS_ID (CCDC5079 nomenclature)\n",
    "- [1] SNP type\n",
    "- [2] Mutated residue\n",
    "- [3] Amino acid change if applicable\n",
    "- [4] Codon change if applicable\n",
    "- [5] Mutation type: Transition (1) / Transversion (0)\n",
    "\n",
    "Now we need to iterate through the dictionary to find synonymous mutations, and keep only FFD dinucleotides."
   ]
  },
  {
   "cell_type": "code",
   "execution_count": 5,
   "metadata": {
    "collapsed": false
   },
   "outputs": [
    {
     "data": {
      "text/plain": [
       "{'AC': {'Ti': 26, 'Tv': 25},\n",
       " 'CC': {'Ti': 50, 'Tv': 19},\n",
       " 'CG': {'Ti': 40, 'Tv': 23},\n",
       " 'CT': {'Ti': 37, 'Tv': 18},\n",
       " 'GC': {'Ti': 75, 'Tv': 48},\n",
       " 'GG': {'Ti': 54, 'Tv': 18},\n",
       " 'GT': {'Ti': 33, 'Tv': 20},\n",
       " 'TC': {'Ti': 21, 'Tv': 11},\n",
       " 'TOTAL': 518,\n",
       " 'Ti': 336,\n",
       " 'Tv': 182}"
      ]
     },
     "execution_count": 5,
     "metadata": {},
     "output_type": "execute_result"
    }
   ],
   "source": [
    "FFD_dict = {'AC': {'Ti': 0, 'Tv': 0},\n",
    "            'CT': {'Ti': 0, 'Tv': 0},\n",
    "            'CC': {'Ti': 0, 'Tv': 0},\n",
    "            'CG': {'Ti': 0, 'Tv': 0},\n",
    "            'GC': {'Ti': 0, 'Tv': 0},\n",
    "            'GG': {'Ti': 0, 'Tv': 0},\n",
    "            'GT': {'Ti': 0, 'Tv': 0},\n",
    "            'TC': {'Ti': 0, 'Tv': 0},\n",
    "            'TOTAL': 0,\n",
    "            'Ti': 0,\n",
    "            'Tv': 0\n",
    "            }\n",
    "\n",
    "MUTATION_TYPE = {0: 'Tv', 1: 'Ti'}\n",
    "\n",
    "FFD_base = {'A': {'C':0, 'G':0, 'T':0},\n",
    "            'C': {'A':0, 'G':0, 'T':0},\n",
    "            'G': {'A':0, 'C':0, 'T':0},\n",
    "            'T': {'A':0, 'C':0, 'G':0},\n",
    "            'TOTAL': 0\n",
    "           }\n",
    "\n",
    "for k,v in FIXED_ANNOTATION_DICT.items():\n",
    "    #account for duplicate entries from related strains\n",
    "    _v = [tuple(x) for x in v] \n",
    "    for x in set(_v): \n",
    "        #filter for synonymous\n",
    "        if x[1]=='synonymous':\n",
    "            \n",
    "            wt_codon, mut_codon = x[4].split('-')\n",
    "            _mut_type = MUTATION_TYPE[x[5]]\n",
    "            if wt_codon[:2]==mut_codon[:2]:\n",
    "                try: \n",
    "                    FFD_dict[wt_codon[:2]][_mut_type]+=1\n",
    "                    FFD_dict['TOTAL']+=1\n",
    "                    FFD_dict[_mut_type]+=1\n",
    "                    FFD_base[wt_codon[-1]][mut_codon[-1]]+=1\n",
    "                    FFD_base['TOTAL']+=1\n",
    "                except:\n",
    "                    pass\n",
    "                \n",
    "FFD_dict"
   ]
  },
  {
   "cell_type": "code",
   "execution_count": 6,
   "metadata": {
    "collapsed": false
   },
   "outputs": [
    {
     "name": "stdout",
     "output_type": "stream",
     "text": [
      "[('A', 0.16216216216216217), ('C', 0.34749034749034752), ('T', 0.13513513513513514), ('G', 0.35521235521235522)]\n"
     ]
    },
    {
     "data": {
      "text/plain": [
       "{'A': {'C': 25, 'G': 57, 'T': 2},\n",
       " 'C': {'A': 21, 'G': 43, 'T': 116},\n",
       " 'G': {'A': 114, 'C': 44, 'T': 26},\n",
       " 'T': {'A': 2, 'C': 49, 'G': 19},\n",
       " 'TOTAL': 518}"
      ]
     },
     "execution_count": 6,
     "metadata": {},
     "output_type": "execute_result"
    }
   ],
   "source": [
    "print([(k,np.sum(list(x.values()))/518) for k,x in FFD_base.items() if k!='TOTAL'])\n",
    "\n",
    "FFD_base"
   ]
  },
  {
   "cell_type": "code",
   "execution_count": 6,
   "metadata": {
    "collapsed": false
   },
   "outputs": [
    {
     "name": "stdout",
     "output_type": "stream",
     "text": [
      "A -> T 0.0238095238095\n",
      "A -> C 0.297619047619\n",
      "A -> G 0.678571428571\n",
      "C -> A 0.116666666667\n",
      "C -> T 0.644444444444\n",
      "C -> G 0.238888888889\n",
      "G -> A 0.619565217391\n",
      "G -> T 0.141304347826\n",
      "G -> C 0.239130434783\n",
      "T -> A 0.0285714285714\n",
      "T -> C 0.7\n",
      "T -> G 0.271428571429\n"
     ]
    }
   ],
   "source": [
    "MUT_PROB = {'A': {'C': {}, 'G': {}, 'T': {}},\n",
    "            'C': {'A': {}, 'G': {}, 'T': {}},\n",
    "            'G': {'A': {}, 'C': {}, 'T': {}},\n",
    "            'T': {'A': {}, 'C': {}, 'G': {}}\n",
    "           }\n",
    "\n",
    "for base in ['A','C','G','T']:    \n",
    "    c_s = np.sum(list(FFD_base[base].values()))\n",
    "    for x in FFD_base[base]:\n",
    "        print(base, '->', x, int(FFD_base[base][x])/c_s)\n",
    "        MUT_PROB[base][x]['FFD_FIXED'] = int(FFD_base[base][x])/c_s"
   ]
  },
  {
   "cell_type": "markdown",
   "metadata": {},
   "source": [
    "From a naive perspective, we would expect the ratio of transitions to transversions to be 1:2. We can see that this is clearly not the case..."
   ]
  },
  {
   "cell_type": "code",
   "execution_count": 8,
   "metadata": {
    "collapsed": false
   },
   "outputs": [
    {
     "name": "stdout",
     "output_type": "stream",
     "text": [
      "Transition: 64.9%, Transversion: 35.1%\n"
     ]
    }
   ],
   "source": [
    "ti = FFD_dict['Ti']/FFD_dict['TOTAL']\n",
    "tv = FFD_dict['Tv']/FFD_dict['TOTAL']\n",
    "\n",
    "print('Transition: {0:0.1f}%, Transversion: {1:0.1f}%'.format(ti*100,tv*100))"
   ]
  },
  {
   "cell_type": "markdown",
   "metadata": {},
   "source": [
    "Let's calculate the substitution matrix using the more general approach."
   ]
  },
  {
   "cell_type": "code",
   "execution_count": 9,
   "metadata": {
    "collapsed": false
   },
   "outputs": [
    {
     "name": "stdout",
     "output_type": "stream",
     "text": [
      "T->C: 0.649\n",
      "T->G: 0.230\n",
      "T->A: 0.121\n"
     ]
    }
   ],
   "source": [
    "#C to A:\n",
    "print('T->C: {0:0.3f}'.format(ti))\n",
    "print('T->G: {0:0.3f}'.format(pi_g/(pi_a+pi_g)*tv))\n",
    "print('T->A: {0:0.3f}'.format(pi_a/(pi_a+pi_g)*tv))"
   ]
  },
  {
   "cell_type": "code",
   "execution_count": 9,
   "metadata": {
    "collapsed": false
   },
   "outputs": [],
   "source": [
    "#A-> mutations\n",
    "MUT_PROB['A']['T']['MODEL']=pi_t/(pi_t+pi_c)*tv\n",
    "MUT_PROB['A']['C']['MODEL']=pi_c/(pi_t+pi_c)*tv\n",
    "MUT_PROB['A']['G']['MODEL']=ti\n",
    "\n",
    "#G-> mutations\n",
    "MUT_PROB['G']['T']['MODEL']=pi_t/(pi_t+pi_c)*tv\n",
    "MUT_PROB['G']['C']['MODEL']=pi_c/(pi_t+pi_c)*tv\n",
    "MUT_PROB['G']['A']['MODEL']=ti\n",
    "\n",
    "#C-> mutations\n",
    "MUT_PROB['C']['A']['MODEL']=pi_a/(pi_a+pi_g)*tv\n",
    "MUT_PROB['C']['G']['MODEL']=pi_g/(pi_a+pi_g)*tv\n",
    "MUT_PROB['C']['T']['MODEL']=ti\n",
    "\n",
    "#T-> mutations\n",
    "MUT_PROB['T']['A']['MODEL']=pi_a/(pi_a+pi_g)*tv\n",
    "MUT_PROB['T']['G']['MODEL']=pi_g/(pi_a+pi_g)*tv\n",
    "MUT_PROB['T']['C']['MODEL']=ti"
   ]
  },
  {
   "cell_type": "markdown",
   "metadata": {},
   "source": [
    "Let's do a quick comparison."
   ]
  },
  {
   "cell_type": "code",
   "execution_count": 10,
   "metadata": {
    "collapsed": false
   },
   "outputs": [
    {
     "data": {
      "text/plain": [
       "<matplotlib.collections.LineCollection at 0x1096ec9e8>"
      ]
     },
     "execution_count": 10,
     "metadata": {},
     "output_type": "execute_result"
    },
    {
     "data": {
      "image/png": "[encoded data removed]",
      "text/plain": [
       "<matplotlib.figure.Figure at 0x109662198>"
      ]
     },
     "metadata": {},
     "output_type": "display_data"
    }
   ],
   "source": [
    "plt.figure('Mutation probability', figsize=(8,8))\n",
    "\n",
    "for (x,y) in zip(['FFD_FIXED', 'MODEL'],['orange', 'black']):\n",
    "    _tick_names = []\n",
    "    _data = []\n",
    "    for ind,base in enumerate(['A', 'C', 'G', 'T']):\n",
    "        other_bases = ['A', 'C', 'G', 'T']\n",
    "        other_bases.pop(ind)\n",
    "        for other_base in other_bases:\n",
    "            _tick_names.append('{}-{}'.format(base,other_base))\n",
    "            _data.append(MUT_PROB[base][other_base][x])\n",
    "    plt.plot(_data, 'o', mec=y, mfc='none', ms=10, mew=1.5, label=x)\n",
    "\n",
    "plt.ylim(0,1)\n",
    "plt.ylabel('Mutation probability', size=16)\n",
    "plt.yticks(size=12)\n",
    "plt.xticks(range(13), _tick_names, size=12)\n",
    "plt.xlabel('Mutation', size=16)\n",
    "plt.xlim(-1,12)\n",
    "plt.grid(axis='x')\n",
    "plt.hlines(0.33,-1,12,linestyles='dotted')"
   ]
  },
  {
   "cell_type": "markdown",
   "metadata": {},
   "source": [
    "This looks remarkably good. The only real difference is the unexpectedly low probability of A<->T transversions. I don't know why this is - it may reflect some kind of codon bias? Let's just quickly check if the FFD base composition reflect that of the genome..."
   ]
  },
  {
   "cell_type": "code",
   "execution_count": 38,
   "metadata": {
    "collapsed": false
   },
   "outputs": [
    {
     "name": "stdout",
     "output_type": "stream",
     "text": [
      "A FFD: 16.2%, GENOME: 17.2%, RATIO: 94.3\n",
      "C FFD: 34.7%, GENOME: 32.9%, RATIO: 105.7\n",
      "G FFD: 35.5%, GENOME: 32.7%, RATIO: 108.5\n",
      "T FFD: 13.5%, GENOME: 17.2%, RATIO: 78.6\n"
     ]
    }
   ],
   "source": [
    "for (base,pi) in zip(['A', 'C', 'G', 'T'], [pi_a, pi_c, pi_g, pi_t]):\n",
    "    given_base = np.sum(list(FFD_base[base].values()))/518\n",
    "    print('{0} FFD: {1:0.1f}%, GENOME: {2:0.1f}%, RATIO: {3:0.1f}'.format(base,\n",
    "                                                                          given_base*100,\n",
    "                                                                          pi*100,\n",
    "                                                                          given_base/pi*100))"
   ]
  },
  {
   "cell_type": "markdown",
   "metadata": {},
   "source": [
    "So might be a bit biased... Let's try to check for all the fixed SYN SNPs not just FFD."
   ]
  },
  {
   "cell_type": "code",
   "execution_count": 11,
   "metadata": {
    "collapsed": false
   },
   "outputs": [
    {
     "data": {
      "text/plain": [
       "{'A': {'C': 33, 'G': 75, 'T': 2},\n",
       " 'C': {'A': 32, 'G': 43, 'T': 209},\n",
       " 'G': {'A': 153, 'C': 44, 'T': 26},\n",
       " 'T': {'A': 2, 'C': 107, 'G': 19},\n",
       " 'TOTAL': 745}"
      ]
     },
     "execution_count": 11,
     "metadata": {},
     "output_type": "execute_result"
    }
   ],
   "source": [
    "ALLFIX_base = {'A': {'C':0, 'G':0, 'T':0},\n",
    "            'C': {'A':0, 'G':0, 'T':0},\n",
    "            'G': {'A':0, 'C':0, 'T':0},\n",
    "            'T': {'A':0, 'C':0, 'G':0},\n",
    "            'TOTAL': 0\n",
    "           }\n",
    "\n",
    "for k,v in FIXED_ANNOTATION_DICT.items():\n",
    "    #account for duplicate entries from related strains\n",
    "    _v = [tuple(x) for x in v] \n",
    "    for x in set(_v): \n",
    "        #filter for synonymous\n",
    "        if x[1]=='synonymous':\n",
    "            wt_codon, mut_codon = x[4].split('-')\n",
    "            for (W,M) in zip(wt_codon, mut_codon):\n",
    "                if W!=M:\n",
    "                    ALLFIX_base[W][M]+=1\n",
    "                    ALLFIX_base['TOTAL']+=1\n",
    "                    \n",
    "ALLFIX_base"
   ]
  },
  {
   "cell_type": "code",
   "execution_count": 12,
   "metadata": {
    "collapsed": false
   },
   "outputs": [
    {
     "name": "stdout",
     "output_type": "stream",
     "text": [
      "A -> T 0.0181818181818\n",
      "A -> C 0.3\n",
      "A -> G 0.681818181818\n",
      "C -> A 0.112676056338\n",
      "C -> T 0.735915492958\n",
      "C -> G 0.151408450704\n",
      "G -> A 0.686098654709\n",
      "G -> T 0.116591928251\n",
      "G -> C 0.19730941704\n",
      "T -> A 0.015625\n",
      "T -> C 0.8359375\n",
      "T -> G 0.1484375\n"
     ]
    }
   ],
   "source": [
    "for base in ['A','C','G','T']:    \n",
    "    c_s = np.sum(list(ALLFIX_base[base].values()))\n",
    "    for x in ALLFIX_base[base]:\n",
    "        print(base, '->', x, int(ALLFIX_base[base][x])/c_s)\n",
    "        MUT_PROB[base][x]['ALL_FIXED'] = int(ALLFIX_base[base][x])/c_s"
   ]
  },
  {
   "cell_type": "code",
   "execution_count": 78,
   "metadata": {
    "collapsed": false
   },
   "outputs": [
    {
     "data": {
      "text/plain": [
       "<matplotlib.collections.LineCollection at 0x10dd37908>"
      ]
     },
     "execution_count": 78,
     "metadata": {},
     "output_type": "execute_result"
    },
    {
     "data": {
      "image/png": "[encoded data removed]",
      "text/plain": [
       "<matplotlib.figure.Figure at 0x10d8f3588>"
      ]
     },
     "metadata": {},
     "output_type": "display_data"
    }
   ],
   "source": [
    "plt.figure('Mutation probability', figsize=(8,8))\n",
    "\n",
    "for (x,y) in zip(['FFD_FIXED', 'ALL_FIXED', 'MODEL'],['orange', 'brown', 'black']):\n",
    "    _tick_names = []\n",
    "    _data = []\n",
    "    for ind,base in enumerate(['A', 'C', 'G', 'T']):\n",
    "        other_bases = ['A', 'C', 'G', 'T']\n",
    "        other_bases.pop(ind)\n",
    "        for other_base in other_bases:\n",
    "            _tick_names.append('{}-{}'.format(base,other_base))\n",
    "            _data.append(MUT_PROB[base][other_base][x])\n",
    "    plt.plot(_data, 'o', mec=y, mfc='none', ms=10, mew=1.5, label=x)\n",
    "\n",
    "plt.ylim(0,1)\n",
    "plt.ylabel('Mutation probability', size=16)\n",
    "plt.yticks(size=12)\n",
    "plt.xticks(range(13), _tick_names, size=12)\n",
    "plt.xlabel('Mutation', size=16)\n",
    "plt.xlim(-1,12)\n",
    "plt.legend(loc=2)\n",
    "plt.grid(axis='x')\n",
    "plt.hlines(0.33,-1,12,linestyles='dotted')"
   ]
  },
  {
   "cell_type": "markdown",
   "metadata": {},
   "source": [
    "For the sake of it, check for the same in the vSNP data and add to the plot."
   ]
  },
  {
   "cell_type": "code",
   "execution_count": 13,
   "metadata": {
    "collapsed": false
   },
   "outputs": [
    {
     "data": {
      "text/plain": [
       "{'A': {'C': 7, 'G': 8, 'T': 0},\n",
       " 'C': {'A': 2, 'G': 11, 'T': 28},\n",
       " 'G': {'A': 21, 'C': 2, 'T': 3},\n",
       " 'T': {'A': 1, 'C': 5, 'G': 1},\n",
       " 'TOTAL': 89}"
      ]
     },
     "execution_count": 13,
     "metadata": {},
     "output_type": "execute_result"
    }
   ],
   "source": [
    "PROCESSED_PATH = '../data/processed/'\n",
    "\n",
    "ANNOTATION_DICT = pickle.load(open('{}2_unfixed_annotation.pkl'.format(INTERIM_PATH),'rb'))\n",
    "ALL = pd.read_csv('{}ALLELE_data.csv'.format(PROCESSED_PATH), index_col=0)\n",
    "\n",
    "ALLVAR_base = {'A': {'C':0, 'G':0, 'T':0},\n",
    "               'C': {'A':0, 'G':0, 'T':0},\n",
    "               'G': {'A':0, 'C':0, 'T':0},\n",
    "               'T': {'A':0, 'C':0, 'G':0},\n",
    "               'TOTAL': 0\n",
    "               }\n",
    "\n",
    "FFDVAR_base = {'A': {'C':0, 'G':0, 'T':0},\n",
    "               'C': {'A':0, 'G':0, 'T':0},\n",
    "               'G': {'A':0, 'C':0, 'T':0},\n",
    "               'T': {'A':0, 'C':0, 'G':0},\n",
    "               'TOTAL': 0\n",
    "               }\n",
    "\n",
    "RAWVAR_base = {'A': {'C':0, 'G':0, 'T':0},\n",
    "               'C': {'A':0, 'G':0, 'T':0},\n",
    "               'G': {'A':0, 'C':0, 'T':0},\n",
    "               'T': {'A':0, 'C':0, 'G':0},\n",
    "               'TOTAL': 0\n",
    "               }\n",
    "\n",
    "for k,v in ANNOTATION_DICT.items():\n",
    "    #account for duplicate entries from related strains\n",
    "    _v = [tuple(x) for x in v] \n",
    "    for x in set(_v): \n",
    "        #filter for synonymous\n",
    "        if x[1]=='synonymous' and int(k) in list(ALL.LOCUS):\n",
    "            wt_codon, mut_codon = x[4].split('-')\n",
    "            for (W,M) in zip(wt_codon, mut_codon):\n",
    "                if W!=M:\n",
    "                    ALLVAR_base[W][M]+=1\n",
    "                    ALLVAR_base['TOTAL']+=1\n",
    "            if wt_codon[:2]==mut_codon[:2]:\n",
    "                try: \n",
    "                    FFDVAR_base[wt_codon[-1]][mut_codon[-1]]+=1\n",
    "                    FFDVAR_base['TOTAL']+=1\n",
    "                except:\n",
    "                    pass\n",
    "        if x[1]=='synonymous':\n",
    "            wt_codon, mut_codon = x[4].split('-')\n",
    "            for (W,M) in zip(wt_codon, mut_codon):\n",
    "                if W!=M:\n",
    "                    RAWVAR_base[W][M]+=1\n",
    "                    RAWVAR_base['TOTAL']+=1\n",
    "                    \n",
    "FFDVAR_base"
   ]
  },
  {
   "cell_type": "code",
   "execution_count": 15,
   "metadata": {
    "collapsed": true
   },
   "outputs": [],
   "source": [
    "for base in ['A','C','G','T']:    \n",
    "    c_s = np.sum(list(ALLVAR_base[base].values()))\n",
    "    d_s = np.sum(list(FFDVAR_base[base].values()))\n",
    "    e_s = np.sum(list(RAWVAR_base[base].values()))\n",
    "    for x in ALLFIX_base[base]:\n",
    "        MUT_PROB[base][x]['ALL_VAR'] = int(ALLVAR_base[base][x])/c_s\n",
    "        MUT_PROB[base][x]['FFD_VAR'] = int(FFDVAR_base[base][x])/d_s\n",
    "        MUT_PROB[base][x]['RAW_VAR'] = int(RAWVAR_base[base][x])/e_s"
   ]
  },
  {
   "cell_type": "code",
   "execution_count": 77,
   "metadata": {
    "collapsed": false
   },
   "outputs": [
    {
     "data": {
      "text/plain": [
       "<matplotlib.collections.LineCollection at 0x10d99def0>"
      ]
     },
     "execution_count": 77,
     "metadata": {},
     "output_type": "execute_result"
    },
    {
     "data": {
      "image/png": "[encoded data removed]",
      "text/plain": [
       "<matplotlib.figure.Figure at 0x10d8ef780>"
      ]
     },
     "metadata": {},
     "output_type": "display_data"
    }
   ],
   "source": [
    "plt.figure('Mutation probability', figsize=(8,8))\n",
    "\n",
    "for (x,y) in zip(['FFD_FIXED', 'ALL_FIXED', 'FFD_VAR', 'ALL_VAR', 'RAW_VAR', 'MODEL'],\n",
    "                 ['orange', 'brown', 'dodgerblue', 'blue', 'magenta', 'black']):\n",
    "    _tick_names = []\n",
    "    _data = []\n",
    "    for ind,base in enumerate(['A', 'C', 'G', 'T']):\n",
    "        other_bases = ['A', 'C', 'G', 'T']\n",
    "        other_bases.pop(ind)\n",
    "        for other_base in other_bases:\n",
    "            _tick_names.append('{}-{}'.format(base,other_base))\n",
    "            _data.append(MUT_PROB[base][other_base][x])\n",
    "    plt.plot(_data, 'o', mec=y, mfc=y, ms=10, mew=1.5, label=x, alpha=0.6)\n",
    "\n",
    "plt.ylim(0,1)\n",
    "plt.ylabel('Mutation probability', size=16)\n",
    "plt.yticks(size=12)\n",
    "plt.xticks(range(13), _tick_names, size=12)\n",
    "plt.xlabel('Mutation', size=16)\n",
    "plt.xlim(-1,12)\n",
    "plt.legend(loc=2, ncol=3)\n",
    "plt.grid(axis='x')\n",
    "plt.hlines(0.33,-1,12,linestyles='dotted')"
   ]
  },
  {
   "cell_type": "code",
   "execution_count": 76,
   "metadata": {
    "collapsed": false
   },
   "outputs": [
    {
     "data": {
      "text/plain": [
       "<matplotlib.collections.LineCollection at 0x10d900898>"
      ]
     },
     "execution_count": 76,
     "metadata": {},
     "output_type": "execute_result"
    },
    {
     "data": {
      "image/png": "[encoded data removed]",
      "text/plain": [
       "<matplotlib.figure.Figure at 0x10d773f60>"
      ]
     },
     "metadata": {},
     "output_type": "display_data"
    }
   ],
   "source": [
    "plt.figure('Mutation probability', figsize=(8,8))\n",
    "\n",
    "for (x,y) in zip(['FFD_FIXED', 'FFD_VAR', 'MODEL'],\n",
    "                 ['orange', 'dodgerblue', 'black']):\n",
    "    _tick_names = []\n",
    "    _data = []\n",
    "    for ind,base in enumerate(['A', 'C', 'G', 'T']):\n",
    "        other_bases = ['A', 'C', 'G', 'T']\n",
    "        other_bases.pop(ind)\n",
    "        for other_base in other_bases:\n",
    "            _tick_names.append('{}-{}'.format(base,other_base))\n",
    "            _data.append(MUT_PROB[base][other_base][x])\n",
    "    plt.plot(_data, 'o', mec=y, mfc=y, ms=10, mew=1.5, label=x, alpha=0.6)\n",
    "\n",
    "plt.ylim(0,1)\n",
    "plt.ylabel('Mutation probability', size=16)\n",
    "plt.yticks(size=12)\n",
    "plt.xticks(range(13), _tick_names, size=12)\n",
    "plt.xlabel('Mutation', size=16)\n",
    "plt.xlim(-1,12)\n",
    "plt.legend(loc=2, ncol=3)\n",
    "plt.grid(axis='x')\n",
    "plt.hlines(0.33,-1,12,linestyles='dotted')"
   ]
  },
  {
   "cell_type": "markdown",
   "metadata": {},
   "source": [
    "Based on this:\n",
    "- My model fits the fSNP data better than the vSNP data. Perhaps this is not surprising given that I've used fSNP data to estimate the Ti/Tv parameters.\n",
    "- The bias agains the T<->A transversions is present in both vSNPs and fSNPs.\n",
    "- Raw vSNPs have a very different substitution profile than anything else, suporting the amended filtering.\n",
    "- The least congruent substitutions between vSNPs and fSNPs are A<->C, G<->A and C<->G. In all of these cases mutation in the right direction is more prominent in the vSNPs with the substitutions in the left direction are more prominent in the fSNPs.\n",
    "\n",
    "The predominant mutations are clearly those driven by transitions, and this raises the possiblity that what we are looking at here are deamination events (deamination of C gives rise to U therefore leading to C->T and G->A transitions, while deamination of A gives rise to hypoxanthine which can basepair to C leading to A->G and T->C transitions). Given the defective BER in Mycobacterium it is possible that active growth correlates with the acumulation of transitions. \n",
    "\n",
    "Practically, which substitution matrix should I use then? The most troubling thing I have to deal with here is the T<->A transition disparity... I will stick to the estimated data.\n",
    "\n",
    "### Empiricaly derive the expected codon substitution matrix\n",
    "Start by making a mutation generator."
   ]
  },
  {
   "cell_type": "code",
   "execution_count": 120,
   "metadata": {
    "collapsed": false
   },
   "outputs": [
    {
     "data": {
      "text/plain": [
       "{'A': 'CCCCCCCCCCCCCCCCCCCCCCCCCCCCCCCCCCCCCCCCCCCCCCCCCCCCCCCCCCCCCCCCCCCCCCCCCCCCCCCCCCCCCCCCCCCCCCCCCCCCCCCCCCCCCCCCCCCCCCCCCCCCCCCCCCCCCCCCCCCCCCCCCCCCCCCCCCCCCCCCCCCCCCCCCCCCCCCCCCCCCCCCCCCCCCCCCCCCCCCCCCCCCCCCCCCCCCCCCCCCCCCCCCCCCCCCCCCCCCCCCCCCCCCCCCCCCCCCCCCCCCCCCCCCCCCCCCCCCCCCCCCCCCCCCCCCCCCCCTTTTTTTTTTTTTTTTTTTTTTTGGGGGGGGGGGGGGGGGGGGGGGGGGGGGGGGGGGGGGGGGGGGGGGGGGGGGGGGGGGGGGGGGGGGGGGGGGGGGGGGGGGGGGGGGGGGGGGGGGGGGGGGGGGGGGGGGGGGGGGGGGGGGGGGGGGGGGGGGGGGGGGGGGGGGGGGGGGGGGGGGGGGGGGGGGGGGGGGGGGGGGGGGGGGGGGGGGGGGGGGGGGGGGGGGGGGGGGGGGGGGGGGGGGGGGGGGGGGGGGGGGGGGGGGGGGGGGGGGGGGGGGGGGGGGGGGGGGGGGGGGGGGGGGGGGGGGGGGGGGGGGGGGGGGGGGGGGGGGGGGGGGGGGGGGGGGGGGGGGGGGGGGGGGGGGGGGGGGGGGGGGGGGGGGGGGGGGGGGGGGGGGGGGGGGGGGGGGGGGGGGGGGGGGGGGGGGGGGGGGGGGGGGGGGGGGGGGGGGGGGGGGGGGGGGGGGGGGGGGGGGGGGGGGGGGGGGGGGGGGGGGGGGGGGGGGGGGGGGGGGGGGGGGGGGGGGGGGGGGGGGGGGGGGGGGGGGGGGGGGGGGGGGGGGGGGGGGGGGGGGGGGGGGGGGGGGGGGGGGGGGGGGGGGGGGGGGGGGGGGGGGGGGGGGGGGGGGGGGGGGGGGGGGGGGGGGGGGGGGGGGGGGGGGGGGGGGGGGGGGGGGGGGGGGGGGGGGGGGG',\n",
       " 'C': 'AAAAAAAAAAAAAAAAAAAAAAAAAAAAAAAAAAAAAAAAAAAAAAAAAAAAAAAAAAAAAAAAAAAAAAAAAAAAAAAAAAAAAAAAAAAAAAAAAAAAAAAAAAAAAAAAAAAATTTTTTTTTTTTTTTTTTTTTTTTTTTTTTTTTTTTTTTTTTTTTTTTTTTTTTTTTTTTTTTTTTTTTTTTTTTTTTTTTTTTTTTTTTTTTTTTTTTTTTTTTTTTTTTTTTTTTTTTTTTTTTTTTTTTTTTTTTTTTTTTTTTTTTTTTTTTTTTTTTTTTTTTTTTTTTTTTTTTTTTTTTTTTTTTTTTTTTTTTTTTTTTTTTTTTTTTTTTTTTTTTTTTTTTTTTTTTTTTTTTTTTTTTTTTTTTTTTTTTTTTTTTTTTTTTTTTTTTTTTTTTTTTTTTTTTTTTTTTTTTTTTTTTTTTTTTTTTTTTTTTTTTTTTTTTTTTTTTTTTTTTTTTTTTTTTTTTTTTTTTTTTTTTTTTTTTTTTTTTTTTTTTTTTTTTTTTTTTTTTTTTTTTTTTTTTTTTTTTTTTTTTTTTTTTTTTTTTTTTTTTTTTTTTTTTTTTTTTTTTTTTTTTTTTTTTTTTTTTTTTTTTTTTTTTTTTTTTTTTTTTTTTTTTTTTTTTTTTTTTTTTTTTTTTTTTTTTTTTTTTTTTTTTTTTTTTTTTTTTTTTTTTTTTTTTTTTTTTTTTTTTTTTTTTTTTTTTTTTTTTTTTTTTTTTTTTTTTTTTTTTTTTTTTTTTTTTTTTTTTTTGGGGGGGGGGGGGGGGGGGGGGGGGGGGGGGGGGGGGGGGGGGGGGGGGGGGGGGGGGGGGGGGGGGGGGGGGGGGGGGGGGGGGGGGGGGGGGGGGGGGGGGGGGGGGGGGGGGGGGGGGGGGGGGGGGGGGGGGGGGGGGGGGGGGGGGGGGGGGGGGGGGGGGGGGGGGGGGGGGGGGGGGGGGGGGGGGGGGGGGGGGGGGGGGGGGGGGGGGGGGGGGGGGGGGGGGGGGGGG',\n",
       " 'G': 'AAAAAAAAAAAAAAAAAAAAAAAAAAAAAAAAAAAAAAAAAAAAAAAAAAAAAAAAAAAAAAAAAAAAAAAAAAAAAAAAAAAAAAAAAAAAAAAAAAAAAAAAAAAAAAAAAAAAAAAAAAAAAAAAAAAAAAAAAAAAAAAAAAAAAAAAAAAAAAAAAAAAAAAAAAAAAAAAAAAAAAAAAAAAAAAAAAAAAAAAAAAAAAAAAAAAAAAAAAAAAAAAAAAAAAAAAAAAAAAAAAAAAAAAAAAAAAAAAAAAAAAAAAAAAAAAAAAAAAAAAAAAAAAAAAAAAAAAAAAAAAAAAAAAAAAAAAAAAAAAAAAAAAAAAAAAAAAAAAAAAAAAAAAAAAAAAAAAAAAAAAAAAAAAAAAAAAAAAAAAAAAAAAAAAAAAAAAAAAAAAAAAAAAAAAAAAAAAAAAAAAAAAAAAAAAAAAAAAAAAAAAAAAAAAAAAAAAAAAAAAAAAAAAAAAAAAAAAAAAAAAAAAAAAAAAAAAAAAAAAAAAAAAAAAAAAAAAAAAAAAAAAAAAAAAAAAAAAAAAAAAAAAAAAAAAAAAAAAAAAAAAAAAAAAAAAAAAAAAAAAAAAAAAAAAAAAAAAAAAAAAAAAAAAAAAAAAAAAAACCCCCCCCCCCCCCCCCCCCCCCCCCCCCCCCCCCCCCCCCCCCCCCCCCCCCCCCCCCCCCCCCCCCCCCCCCCCCCCCCCCCCCCCCCCCCCCCCCCCCCCCCCCCCCCCCCCCCCCCCCCCCCCCCCCCCCCCCCCCCCCCCCCCCCCCCCCCCCCCCCCCCCCCCCCCCCCCCCCCCCCCCCCCCCCCCCCCCCCCCCCCCCCCCCCCCCCCCCCCCCCCCCCCCCCCCCCCCCCTTTTTTTTTTTTTTTTTTTTTTTTTTTTTTTTTTTTTTTTTTTTTTTTTTTTTTTTTTTTTTTTTTTTTTTTTTTTTTTTTTTTTTTTTTTTTTTTTTTTTTTTTTTTTTTTTTTTTTTTTTTTTTTTTTTTTTTTTTTTT',\n",
       " 'T': 'AAAAAAAAAAAAAAAAAAAAAAAAAAAACCCCCCCCCCCCCCCCCCCCCCCCCCCCCCCCCCCCCCCCCCCCCCCCCCCCCCCCCCCCCCCCCCCCCCCCCCCCCCCCCCCCCCCCCCCCCCCCCCCCCCCCCCCCCCCCCCCCCCCCCCCCCCCCCCCCCCCCCCCCCCCCCCCCCCCCCCCCCCCCCCCCCCCCCCCCCCCCCCCCCCCCCCCCCCCCCCCCCCCCCCCCCCCCCCCCCCCCCCCCCCCCCCCCCCCCCCCCCCCCCCCCCCCCCCCCCCCCCCCCCCCCCCCCCCCCCCCCCCCCCCCCCCCCCCCCCCCCCCCCCCCCCCCCCCCCCCCCCCCCCCCCCCCCCCCCCCCCCCCCCCCCCCCCCCCCCCCCCCCCCCCCCCCCCCCCCCCCCCCCCCCCCCCCCCCCCCCCCCCCCCCCCCCCCCCCCCCCCCCCCCCCCCCCCCCCCCCCCCCCCCCCCCCCCCCCCCCCCCCCCCCCCCCCCCCCCCCCCCCCCCCCCCCCCCCCCCCCCCCCCCCCCCCCCCCCCCCCCCCCCCCCCCCCCCCCCCCCCCCCCCCCCCCCCCCCCCCCCCCCCCCCCCCCCCCCCCCCCCCCCCCCCCCCCCCCCCCCCCCCCCCCCCCCCCCCCCCCCCCCCCCCCCCCCCCCCCCCCCCCCCCCCCCCCCCCCCCCCCCCCCCCCCCCCCCCCCCCCCCCCCCCCCCCCCCCCCCCCCCCGGGGGGGGGGGGGGGGGGGGGGGGGGGGGGGGGGGGGGGGGGGGGGGGGGGGGGGGGGGGGGGGGGGGGGGGGGGGGGGGGGGGGGGGGGGGGGGGGGGGGGGGGGGGGGGGGGGGGGGGGGGGGGGGGGGGGGGGGGGGGGGGGGGGGGGGGGGGGGGGGGGGGGGGGGGGGGGGGGGGGGGGGGGGGGGGGGGGGGGGGGGGGGGGGGGGGGGGGGGGGGGGGGGGGGGGGGGGGGGGGGGGGGGGGGGGGGGGGGGGGGGGGGGGGGG'}"
      ]
     },
     "execution_count": 120,
     "metadata": {},
     "output_type": "execute_result"
    }
   ],
   "source": [
    "MUTATION_POOL = {'A': '',\n",
    "                 'C': '',\n",
    "                 'G': '',\n",
    "                 'T': ''\n",
    "                }\n",
    "\n",
    "for k in MUTATION_POOL.keys():\n",
    "    for k1,v1 in MUT_PROB[k].items():\n",
    "        MUTATION_POOL[k]+=(k1*int(v1['FFD_FIXED']*1000))\n",
    "        \n",
    "MUTATION_POOL"
   ]
  },
  {
   "cell_type": "markdown",
   "metadata": {},
   "source": [
    "The null expectation of codon mutation will be estimated as follows. For each codon I will run the following simulation:\n",
    "1. Randomly select a position to mutate\n",
    "2. Randomly replace the base\n",
    "3. Score for translational impact of the mutation. I will treat a mutation to a stop codons as a NSY substitution."
   ]
  },
  {
   "cell_type": "code",
   "execution_count": 18,
   "metadata": {
    "collapsed": true
   },
   "outputs": [],
   "source": [
    "CODON_TABLE = {'AAA': 'K', 'AAC': 'N', 'AAG': 'K', 'AAT': 'N', 'ACA': 'T',\n",
    "               'ACC': 'T', 'ACG': 'T', 'ACT': 'T', 'AGA': 'R', 'AGC': 'S', 'AGG': 'R',\n",
    "               'AGT': 'S', 'ATA': 'I', 'ATC': 'I', 'ATG': 'M', 'ATT': 'I', 'CAA': 'Q',\n",
    "               'CAC': 'H', 'CAG': 'Q', 'CAT': 'H', 'CCA': 'P', 'CCC': 'P', 'CCG': 'P',\n",
    "               'CCT': 'P', 'CGA': 'R', 'CGC': 'R', 'CGG': 'R', 'CGT': 'R', 'CTA': 'L',\n",
    "               'CTC': 'L', 'CTG': 'L', 'CTT': 'L', 'GAA': 'E', 'GAC': 'D', 'GAG': 'E',\n",
    "               'GAT': 'D', 'GCA': 'A', 'GCC': 'A', 'GCG': 'A', 'GCT': 'A', 'GGA': 'G',\n",
    "               'GGC': 'G', 'GGG': 'G', 'GGT': 'G', 'GTA': 'V', 'GTC': 'V', 'GTG': 'V',\n",
    "               'GTT': 'V', 'TAA': 'STOP', 'TAC': 'Y', 'TAG': 'STOP', 'TAT': 'Y',\n",
    "               'TCA': 'S', 'TCC': 'S', 'TCG': 'S', 'TCT': 'S', 'TGA': 'STOP', 'TGC': 'C',\n",
    "               'TGG': 'W', 'TGT': 'C', 'TTA': 'L', 'TTC': 'F', 'TTG': 'L', 'TTT': 'F'}\n",
    "\n",
    "def mutate_codon(codon, mutation_pool):\n",
    "    \"\"\"Randomly mutate a base within a codon using\n",
    "    a predefined substitution matrix. Score the \n",
    "    translational impact of mutaitons.\n",
    "    \n",
    "    INPUT:\n",
    "    ------\n",
    "    codon: str, NNN where N in ['A', 'C', 'G', 'T']\n",
    "    mutation_pool: dict, key: base, value: str\n",
    "    \n",
    "    OUTPUT:\n",
    "    ------\n",
    "    int, 0|1, 0 for synonymous mutation, 1 for nonsynonymous\n",
    "    \n",
    "    NOTES:\n",
    "    ------\n",
    "    uses the standard random library\n",
    "    \"\"\"\n",
    "    \n",
    "    pos = random.randint(0,2)\n",
    "    random_base = random.choice(mutation_pool[codon[pos]])\n",
    "    \n",
    "    cl = list(codon)\n",
    "    cl[pos] = random_base\n",
    "    new_codon = ''.join(cl)\n",
    "    \n",
    "    CODON_TABLE = {'AAA': 'K', 'AAC': 'N', 'AAG': 'K', 'AAT': 'N', 'ACA': 'T',\n",
    "               'ACC': 'T', 'ACG': 'T', 'ACT': 'T', 'AGA': 'R', 'AGC': 'S', 'AGG': 'R',\n",
    "               'AGT': 'S', 'ATA': 'I', 'ATC': 'I', 'ATG': 'M', 'ATT': 'I', 'CAA': 'Q',\n",
    "               'CAC': 'H', 'CAG': 'Q', 'CAT': 'H', 'CCA': 'P', 'CCC': 'P', 'CCG': 'P',\n",
    "               'CCT': 'P', 'CGA': 'R', 'CGC': 'R', 'CGG': 'R', 'CGT': 'R', 'CTA': 'L',\n",
    "               'CTC': 'L', 'CTG': 'L', 'CTT': 'L', 'GAA': 'E', 'GAC': 'D', 'GAG': 'E',\n",
    "               'GAT': 'D', 'GCA': 'A', 'GCC': 'A', 'GCG': 'A', 'GCT': 'A', 'GGA': 'G',\n",
    "               'GGC': 'G', 'GGG': 'G', 'GGT': 'G', 'GTA': 'V', 'GTC': 'V', 'GTG': 'V',\n",
    "               'GTT': 'V', 'TAA': 'STOP', 'TAC': 'Y', 'TAG': 'STOP', 'TAT': 'Y',\n",
    "               'TCA': 'S', 'TCC': 'S', 'TCG': 'S', 'TCT': 'S', 'TGA': 'STOP', 'TGC': 'C',\n",
    "               'TGG': 'W', 'TGT': 'C', 'TTA': 'L', 'TTC': 'F', 'TTG': 'L', 'TTT': 'F'}\n",
    "    \n",
    "    return int(CODON_TABLE[codon]!=CODON_TABLE[new_codon])"
   ]
  },
  {
   "cell_type": "code",
   "execution_count": 121,
   "metadata": {
    "collapsed": false
   },
   "outputs": [
    {
     "data": {
      "text/plain": [
       "{'AAA': 0.77147999999999983,\n",
       " 'AAC': 0.78310000000000002,\n",
       " 'AAG': 0.79181999999999997,\n",
       " 'AAT': 0.76719000000000004,\n",
       " 'ACA': 0.66549999999999998,\n",
       " 'ACC': 0.66368000000000005,\n",
       " 'ACG': 0.66735,\n",
       " 'ACT': 0.66664000000000001,\n",
       " 'AGA': 0.67274,\n",
       " 'AGC': 0.78346000000000005,\n",
       " 'AGG': 0.69614999999999994,\n",
       " 'AGT': 0.76638000000000006,\n",
       " 'ATA': 0.89295999999999998,\n",
       " 'ATC': 0.74596999999999991,\n",
       " 'ATG': 1.0,\n",
       " 'ATT': 0.75840000000000007,\n",
       " 'CAA': 0.77489999999999992,\n",
       " 'CAC': 0.78566999999999998,\n",
       " 'CAG': 0.79521000000000019,\n",
       " 'CAT': 0.76635000000000009,\n",
       " 'CCA': 0.66679999999999995,\n",
       " 'CCC': 0.66632000000000002,\n",
       " 'CCG': 0.66755000000000009,\n",
       " 'CCT': 0.66790999999999978,\n",
       " 'CGA': 0.62556,\n",
       " 'CGC': 0.66800999999999999,\n",
       " 'CGG': 0.62692999999999999,\n",
       " 'CGT': 0.66621000000000008,\n",
       " 'CTA': 0.45150000000000001,\n",
       " 'CTC': 0.66721999999999992,\n",
       " 'CTG': 0.45156999999999997,\n",
       " 'CTT': 0.66690000000000016,\n",
       " 'GAA': 0.77387000000000006,\n",
       " 'GAC': 0.78374999999999995,\n",
       " 'GAG': 0.79522000000000004,\n",
       " 'GAT': 0.76731999999999989,\n",
       " 'GCA': 0.66624000000000028,\n",
       " 'GCC': 0.66696000000000022,\n",
       " 'GCG': 0.66658000000000017,\n",
       " 'GCT': 0.66406999999999994,\n",
       " 'GGA': 0.66637000000000013,\n",
       " 'GGC': 0.66803000000000012,\n",
       " 'GGG': 0.66660000000000008,\n",
       " 'GGT': 0.66682000000000019,\n",
       " 'GTA': 0.66709000000000007,\n",
       " 'GTC': 0.66504000000000008,\n",
       " 'GTG': 0.66525000000000023,\n",
       " 'GTT': 0.66563000000000005,\n",
       " 'TAA': 0.54693999999999998,\n",
       " 'TAC': 0.78493000000000013,\n",
       " 'TAG': 0.79310999999999998,\n",
       " 'TAT': 0.76734999999999998,\n",
       " 'TCA': 0.66652000000000011,\n",
       " 'TCC': 0.66760999999999993,\n",
       " 'TCG': 0.66483000000000014,\n",
       " 'TCT': 0.66508999999999996,\n",
       " 'TGA': 0.79284999999999994,\n",
       " 'TGC': 0.78558000000000006,\n",
       " 'TGG': 1.0,\n",
       " 'TGT': 0.76761000000000013,\n",
       " 'TTA': 0.53771999999999986,\n",
       " 'TTC': 0.78371000000000013,\n",
       " 'TTG': 0.56130000000000013,\n",
       " 'TTT': 0.7664200000000001}"
      ]
     },
     "execution_count": 121,
     "metadata": {},
     "output_type": "execute_result"
    }
   ],
   "source": [
    "NSY_EXPECTATION = {\n",
    "    codon: np.mean([np.mean([mutate_codon(codon, MUTATION_POOL)\\\n",
    "                             for x in range(1000)]) for y in range(100)])\n",
    "    for codon in CODON_TABLE.keys()\n",
    "}\n",
    "\n",
    "NSY_EXPECTATION"
   ]
  },
  {
   "cell_type": "code",
   "execution_count": 20,
   "metadata": {
    "collapsed": true
   },
   "outputs": [],
   "source": [
    "#Save the outcome of this\n",
    "pickle.dump(NSY_EXPECTATION, open('{}5_NSY_EXPECTATION.pkl'.format(INTERIM_PATH),'wb'))"
   ]
  },
  {
   "cell_type": "markdown",
   "metadata": {},
   "source": [
    "Next, let's bring this together with the time points and score them."
   ]
  },
  {
   "cell_type": "code",
   "execution_count": 122,
   "metadata": {
    "collapsed": false
   },
   "outputs": [],
   "source": [
    "ALL['CODING'] = [int(x in ['SYN', 'NSY']) for x in ALL.SNP_TYPE]\n",
    "\n",
    "pNS_VAR = {}\n",
    "\n",
    "click = 0\n",
    "for patient in np.unique(ALL.PATIENT_ID):\n",
    "    for x in [0,2,4,6,8]:\n",
    "        if x in list(ALL.TIME[ALL.PATIENT_ID==patient]):\n",
    "            #count observed data\n",
    "            oN = Counter(ALL.SNP_TYPE[(ALL.PATIENT_ID==patient)&(ALL.TIME==x)&(ALL.CODING==1)])['NSY']\n",
    "            oS = Counter(ALL.SNP_TYPE[(ALL.PATIENT_ID==patient)&(ALL.TIME==x)&(ALL.CODING==1)])['SYN']\n",
    "            #use mutation matrix to derive the expectation\n",
    "            eN = np.sum([NSY_EXPECTATION[x] for x in ALL.WT_CODON[\n",
    "                        (ALL.PATIENT_ID==patient)&(ALL.TIME==x)&\n",
    "                        (ALL.CODING==1)]])\n",
    "            eS = (oN+oS)-eN\n",
    "            #calculate pNS\n",
    "            try:\n",
    "                pNS = (oN/eN)/(oS/eS)\n",
    "            \n",
    "            except:\n",
    "                pNS = np.nan\n",
    "            \n",
    "            #Remove all calculations where there were no observed mutations \n",
    "            #in either category \n",
    "            if pNS==0:\n",
    "                pNS = np.nan\n",
    "            if pNS==np.inf:\n",
    "                pNS = np.nan\n",
    "                \n",
    "            #use binomial random sampling to derive a null distribution of pNS\n",
    "            bN = np.sum([ss.binom(p=NSY_EXPECTATION[x],n=1).rvs(random_state=seed) for (seed,x) in enumerate(\n",
    "                        ALL.WT_CODON[(ALL.PATIENT_ID==patient)&(ALL.TIME==x)&(ALL.CODING==1)])])\n",
    "            bS = (oN+oS)-bN\n",
    "            try:\n",
    "                pNS_b = (bN/eN)/(bS/eS)\n",
    "            \n",
    "            except:\n",
    "                pNS_b = np.nan\n",
    "            \n",
    "            #Remove all calculations where there were no observed mutations \n",
    "            #in either category    \n",
    "            if pNS_b==0:\n",
    "                pNS_b = np.nan\n",
    "            if pNS_b==np.inf:\n",
    "                pNS_b = np.nan\n",
    "                \n",
    "            \n",
    "\n",
    "            pNS_VAR[click] = {'PATIENT_ID': patient,\n",
    "                              'TIME': x,\n",
    "                              'pNS': pNS, \n",
    "                              'OBSERVED_SYN': oS,\n",
    "                              'OBSERVED_NSY': oN,\n",
    "                              'EXPECTED_SYN': eS,\n",
    "                              'EXPECTED_NSY': eN,\n",
    "                              'NEUTRAL_SYN': bS,\n",
    "                              'NEUTRAL_NSY': bN,\n",
    "                              'pNS_NEUTRAL': pNS_b,\n",
    "                              'TOTAL': oS+oN\n",
    "                             }\n",
    "            click+=1\n",
    "            \n",
    "ALL.drop('CODING', axis=1, inplace=True)"
   ]
  },
  {
   "cell_type": "code",
   "execution_count": 87,
   "metadata": {
    "collapsed": false
   },
   "outputs": [
    {
     "data": {
      "text/html": [
       "<div>\n",
       "<table border=\"1\" class=\"dataframe\">\n",
       "  <thead>\n",
       "    <tr style=\"text-align: right;\">\n",
       "      <th></th>\n",
       "      <th>EXPECTED_NSY</th>\n",
       "      <th>EXPECTED_SYN</th>\n",
       "      <th>NEUTRAL_NSY</th>\n",
       "      <th>NEUTRAL_SYN</th>\n",
       "      <th>OBSERVED_NSY</th>\n",
       "      <th>OBSERVED_SYN</th>\n",
       "      <th>PATIENT_ID</th>\n",
       "      <th>TIME</th>\n",
       "      <th>TOTAL</th>\n",
       "      <th>pNS</th>\n",
       "      <th>pNS_NEUTRAL</th>\n",
       "      <th>NON_EFFICACIOUS</th>\n",
       "    </tr>\n",
       "  </thead>\n",
       "  <tbody>\n",
       "    <tr>\n",
       "      <th>0</th>\n",
       "      <td>1.45395</td>\n",
       "      <td>0.54605</td>\n",
       "      <td>2</td>\n",
       "      <td>0</td>\n",
       "      <td>2</td>\n",
       "      <td>0</td>\n",
       "      <td>Patient01</td>\n",
       "      <td>0</td>\n",
       "      <td>2</td>\n",
       "      <td>NaN</td>\n",
       "      <td>NaN</td>\n",
       "      <td>0</td>\n",
       "    </tr>\n",
       "    <tr>\n",
       "      <th>1</th>\n",
       "      <td>5.79964</td>\n",
       "      <td>2.20036</td>\n",
       "      <td>6</td>\n",
       "      <td>2</td>\n",
       "      <td>6</td>\n",
       "      <td>2</td>\n",
       "      <td>Patient01</td>\n",
       "      <td>2</td>\n",
       "      <td>8</td>\n",
       "      <td>1.13819</td>\n",
       "      <td>1.13819</td>\n",
       "      <td>0</td>\n",
       "    </tr>\n",
       "    <tr>\n",
       "      <th>2</th>\n",
       "      <td>2.91692</td>\n",
       "      <td>1.08308</td>\n",
       "      <td>4</td>\n",
       "      <td>0</td>\n",
       "      <td>3</td>\n",
       "      <td>1</td>\n",
       "      <td>Patient01</td>\n",
       "      <td>4</td>\n",
       "      <td>4</td>\n",
       "      <td>1.11393</td>\n",
       "      <td>NaN</td>\n",
       "      <td>0</td>\n",
       "    </tr>\n",
       "    <tr>\n",
       "      <th>3</th>\n",
       "      <td>1.45395</td>\n",
       "      <td>0.54605</td>\n",
       "      <td>2</td>\n",
       "      <td>0</td>\n",
       "      <td>2</td>\n",
       "      <td>0</td>\n",
       "      <td>Patient01</td>\n",
       "      <td>6</td>\n",
       "      <td>2</td>\n",
       "      <td>NaN</td>\n",
       "      <td>NaN</td>\n",
       "      <td>0</td>\n",
       "    </tr>\n",
       "    <tr>\n",
       "      <th>4</th>\n",
       "      <td>6.71774</td>\n",
       "      <td>2.28226</td>\n",
       "      <td>6</td>\n",
       "      <td>3</td>\n",
       "      <td>7</td>\n",
       "      <td>2</td>\n",
       "      <td>Patient02</td>\n",
       "      <td>0</td>\n",
       "      <td>9</td>\n",
       "      <td>1.18908</td>\n",
       "      <td>0.679473</td>\n",
       "      <td>0</td>\n",
       "    </tr>\n",
       "  </tbody>\n",
       "</table>\n",
       "</div>"
      ],
      "text/plain": [
       "  EXPECTED_NSY EXPECTED_SYN NEUTRAL_NSY NEUTRAL_SYN OBSERVED_NSY OBSERVED_SYN  \\\n",
       "0      1.45395      0.54605           2           0            2            0   \n",
       "1      5.79964      2.20036           6           2            6            2   \n",
       "2      2.91692      1.08308           4           0            3            1   \n",
       "3      1.45395      0.54605           2           0            2            0   \n",
       "4      6.71774      2.28226           6           3            7            2   \n",
       "\n",
       "  PATIENT_ID TIME TOTAL      pNS pNS_NEUTRAL  NON_EFFICACIOUS  \n",
       "0  Patient01    0     2      NaN         NaN                0  \n",
       "1  Patient01    2     8  1.13819     1.13819                0  \n",
       "2  Patient01    4     4  1.11393         NaN                0  \n",
       "3  Patient01    6     2      NaN         NaN                0  \n",
       "4  Patient02    0     9  1.18908    0.679473                0  "
      ]
     },
     "execution_count": 87,
     "metadata": {},
     "output_type": "execute_result"
    }
   ],
   "source": [
    "pNS_df = pd.DataFrame(pNS_VAR).T\n",
    "\n",
    "pNS_df['NON_EFFICACIOUS'] = [int(x[-2:] in ['09','10', '11', '12']) for x in list(pNS_df.PATIENT_ID)]\n",
    "\n",
    "pNS_df.head()"
   ]
  },
  {
   "cell_type": "code",
   "execution_count": 88,
   "metadata": {
    "collapsed": false
   },
   "outputs": [
    {
     "name": "stdout",
     "output_type": "stream",
     "text": [
      "MannwhitneyuResult(statistic=130.0, pvalue=0.42146244057452831)\n",
      "MannwhitneyuResult(statistic=35.5, pvalue=9.459523029670376e-06)\n",
      "MannwhitneyuResult(statistic=59.0, pvalue=0.00015247255002366869)\n"
     ]
    },
    {
     "data": {
      "image/png": "[encoded data removed]",
      "text/plain": [
       "<matplotlib.figure.Figure at 0x10b0ddba8>"
      ]
     },
     "metadata": {},
     "output_type": "display_data"
    }
   ],
   "source": [
    "plt.figure('pNS boxplots', figsize=(8,8))\n",
    "_NE = [list(pNS_df[x][\n",
    "            (pNS_df[x]>0)&(pNS_df.NON_EFFICACIOUS==1)&\n",
    "            (pNS_df.TIME!='FIXED')]) for x in ['pNS', 'pNS_NEUTRAL']]\n",
    "_E = [list(pNS_df[x][\n",
    "            (pNS_df[x]>0)&(pNS_df.NON_EFFICACIOUS==0)&\n",
    "            (pNS_df.TIME!='FIXED')]) for x in ['pNS', 'pNS_NEUTRAL']]\n",
    "\n",
    "plt.hlines(1,0,5,linestyles='dotted')\n",
    "plt.boxplot(_E+_NE)\n",
    "\n",
    "print(ss.mannwhitneyu(_NE[0],_NE[1]))\n",
    "print(ss.mannwhitneyu(_E[0],_E[1]))\n",
    "print(ss.mannwhitneyu(_E[0],_NE[0]))"
   ]
  },
  {
   "cell_type": "markdown",
   "metadata": {
    "collapsed": false
   },
   "source": [
    "vSNPs done, let's do the calculations for fSNPs."
   ]
  },
  {
   "cell_type": "code",
   "execution_count": 56,
   "metadata": {
    "collapsed": false
   },
   "outputs": [
    {
     "data": {
      "text/html": [
       "<div>\n",
       "<table border=\"1\" class=\"dataframe\">\n",
       "  <thead>\n",
       "    <tr style=\"text-align: right;\">\n",
       "      <th></th>\n",
       "      <th>GENE</th>\n",
       "      <th>LOCUS</th>\n",
       "      <th>NON_EFFICACIOUS</th>\n",
       "      <th>PATIENT_ID</th>\n",
       "      <th>RESISTANCE</th>\n",
       "      <th>SNP_TYPE</th>\n",
       "      <th>TRANSITION</th>\n",
       "      <th>WT_CODON</th>\n",
       "    </tr>\n",
       "  </thead>\n",
       "  <tbody>\n",
       "    <tr>\n",
       "      <th>0</th>\n",
       "      <td>CFBS00100</td>\n",
       "      <td>18947</td>\n",
       "      <td>0</td>\n",
       "      <td>Patient01</td>\n",
       "      <td>DS</td>\n",
       "      <td>NSY</td>\n",
       "      <td>0</td>\n",
       "      <td>CCT</td>\n",
       "    </tr>\n",
       "    <tr>\n",
       "      <th>1</th>\n",
       "      <td>CFBS00190</td>\n",
       "      <td>37167</td>\n",
       "      <td>0</td>\n",
       "      <td>Patient01</td>\n",
       "      <td>DS</td>\n",
       "      <td>NSY</td>\n",
       "      <td>1</td>\n",
       "      <td>GGC</td>\n",
       "    </tr>\n",
       "    <tr>\n",
       "      <th>2</th>\n",
       "      <td>CFBS00260</td>\n",
       "      <td>52531</td>\n",
       "      <td>0</td>\n",
       "      <td>Patient01</td>\n",
       "      <td>DS</td>\n",
       "      <td>SYN</td>\n",
       "      <td>0</td>\n",
       "      <td>GGG</td>\n",
       "    </tr>\n",
       "    <tr>\n",
       "      <th>3</th>\n",
       "      <td>CFBS00495</td>\n",
       "      <td>99794</td>\n",
       "      <td>0</td>\n",
       "      <td>Patient01</td>\n",
       "      <td>DS</td>\n",
       "      <td>NSY</td>\n",
       "      <td>1</td>\n",
       "      <td>GCC</td>\n",
       "    </tr>\n",
       "    <tr>\n",
       "      <th>4</th>\n",
       "      <td>CFBS00700-CFBS00705</td>\n",
       "      <td>157894</td>\n",
       "      <td>0</td>\n",
       "      <td>Patient01</td>\n",
       "      <td>DS</td>\n",
       "      <td>IGR</td>\n",
       "      <td>1</td>\n",
       "      <td>-</td>\n",
       "    </tr>\n",
       "  </tbody>\n",
       "</table>\n",
       "</div>"
      ],
      "text/plain": [
       "                  GENE   LOCUS  NON_EFFICACIOUS PATIENT_ID RESISTANCE  \\\n",
       "0            CFBS00100   18947                0  Patient01         DS   \n",
       "1            CFBS00190   37167                0  Patient01         DS   \n",
       "2            CFBS00260   52531                0  Patient01         DS   \n",
       "3            CFBS00495   99794                0  Patient01         DS   \n",
       "4  CFBS00700-CFBS00705  157894                0  Patient01         DS   \n",
       "\n",
       "  SNP_TYPE  TRANSITION WT_CODON  \n",
       "0      NSY           0      CCT  \n",
       "1      NSY           1      GGC  \n",
       "2      SYN           0      GGG  \n",
       "3      NSY           1      GCC  \n",
       "4      IGR           1        -  "
      ]
     },
     "execution_count": 56,
     "metadata": {},
     "output_type": "execute_result"
    }
   ],
   "source": [
    "FIX = pd.read_csv('{}3_FIXED_data.csv'.format(INTERIM_PATH), index_col=0)\n",
    "\n",
    "FIX.head()"
   ]
  },
  {
   "cell_type": "code",
   "execution_count": 123,
   "metadata": {
    "collapsed": false
   },
   "outputs": [],
   "source": [
    "FIX['CODING'] = [int(x in ['SYN', 'NSY']) for x in FIX.SNP_TYPE]\n",
    "\n",
    "for patient in np.unique(FIX.PATIENT_ID):\n",
    "    oN = Counter(FIX.SNP_TYPE[(FIX.PATIENT_ID==patient)&(FIX.CODING==1)])['NSY']\n",
    "    oS = Counter(FIX.SNP_TYPE[(FIX.PATIENT_ID==patient)&(FIX.CODING==1)])['SYN']\n",
    "    #use mutation matrix to derive the expectation\n",
    "    eN = np.sum([NSY_EXPECTATION[x] for x in FIX.WT_CODON[\n",
    "                (FIX.PATIENT_ID==patient)&(FIX.CODING==1)]])\n",
    "    eS = (oN+oS)-eN\n",
    "    #calculate pNS\n",
    "    try:\n",
    "        pNS = (oN/eN)/(oS/eS)\n",
    "\n",
    "    except:\n",
    "        pNS = np.nan\n",
    "\n",
    "    #Remove all calculations where there were no observed mutations \n",
    "    #in either category \n",
    "    if pNS==0:\n",
    "        pNS = np.nan\n",
    "    if pNS==np.inf:\n",
    "        pNS = np.nan\n",
    "\n",
    "    #use binomial random sampling to derive a null distribution of pNS\n",
    "    bN = np.sum([ss.binom(p=NSY_EXPECTATION[x],n=1).rvs(random_state=seed) for (seed,x) in enumerate(\n",
    "                FIX.WT_CODON[(FIX.PATIENT_ID==patient)&(FIX.CODING==1)])])\n",
    "    bS = (oN+oS)-bN\n",
    "    try:\n",
    "        pNS_b = (bN/eN)/(bS/eS)\n",
    "\n",
    "    except:\n",
    "        pNS_b = np.nan\n",
    "\n",
    "    #Remove all calculations where there were no observed mutations \n",
    "    #in either category    \n",
    "    if pNS_b==0:\n",
    "        pNS_b = np.nan\n",
    "    if pNS_b==np.inf:\n",
    "        pNS_b = np.nan\n",
    "\n",
    "\n",
    "\n",
    "    pNS_VAR[click] = {'PATIENT_ID': patient,\n",
    "                      'TIME': 'FIXED',\n",
    "                      'pNS': pNS, \n",
    "                      'OBSERVED_SYN': oS,\n",
    "                      'OBSERVED_NSY': oN,\n",
    "                      'EXPECTED_SYN': eS,\n",
    "                      'EXPECTED_NSY': eN,\n",
    "                      'NEUTRAL_SYN': bS,\n",
    "                      'NEUTRAL_NSY': bN,\n",
    "                      'pNS_NEUTRAL': pNS_b,\n",
    "                      'TOTAL': oS+oN\n",
    "                     }\n",
    "    click+=1\n",
    "            \n",
    "FIX.drop('CODING', axis=1, inplace=True)"
   ]
  },
  {
   "cell_type": "code",
   "execution_count": 124,
   "metadata": {
    "collapsed": false
   },
   "outputs": [
    {
     "data": {
      "text/html": [
       "<div>\n",
       "<table border=\"1\" class=\"dataframe\">\n",
       "  <thead>\n",
       "    <tr style=\"text-align: right;\">\n",
       "      <th></th>\n",
       "      <th>EXPECTED_NSY</th>\n",
       "      <th>EXPECTED_SYN</th>\n",
       "      <th>NEUTRAL_NSY</th>\n",
       "      <th>NEUTRAL_SYN</th>\n",
       "      <th>OBSERVED_NSY</th>\n",
       "      <th>OBSERVED_SYN</th>\n",
       "      <th>PATIENT_ID</th>\n",
       "      <th>TIME</th>\n",
       "      <th>TOTAL</th>\n",
       "      <th>pNS</th>\n",
       "      <th>pNS_NEUTRAL</th>\n",
       "      <th>NON_EFFICACIOUS</th>\n",
       "    </tr>\n",
       "  </thead>\n",
       "  <tbody>\n",
       "    <tr>\n",
       "      <th>0</th>\n",
       "      <td>1.45035</td>\n",
       "      <td>0.54965</td>\n",
       "      <td>2</td>\n",
       "      <td>0</td>\n",
       "      <td>2</td>\n",
       "      <td>0</td>\n",
       "      <td>Patient01</td>\n",
       "      <td>0</td>\n",
       "      <td>2</td>\n",
       "      <td>NaN</td>\n",
       "      <td>NaN</td>\n",
       "      <td>0</td>\n",
       "    </tr>\n",
       "    <tr>\n",
       "      <th>1</th>\n",
       "      <td>5.79568</td>\n",
       "      <td>2.20432</td>\n",
       "      <td>6</td>\n",
       "      <td>2</td>\n",
       "      <td>6</td>\n",
       "      <td>2</td>\n",
       "      <td>Patient01</td>\n",
       "      <td>2</td>\n",
       "      <td>8</td>\n",
       "      <td>1.14102</td>\n",
       "      <td>1.14102</td>\n",
       "      <td>0</td>\n",
       "    </tr>\n",
       "    <tr>\n",
       "      <th>2</th>\n",
       "      <td>2.91357</td>\n",
       "      <td>1.08643</td>\n",
       "      <td>4</td>\n",
       "      <td>0</td>\n",
       "      <td>3</td>\n",
       "      <td>1</td>\n",
       "      <td>Patient01</td>\n",
       "      <td>4</td>\n",
       "      <td>4</td>\n",
       "      <td>1.11866</td>\n",
       "      <td>NaN</td>\n",
       "      <td>0</td>\n",
       "    </tr>\n",
       "    <tr>\n",
       "      <th>3</th>\n",
       "      <td>1.45035</td>\n",
       "      <td>0.54965</td>\n",
       "      <td>2</td>\n",
       "      <td>0</td>\n",
       "      <td>2</td>\n",
       "      <td>0</td>\n",
       "      <td>Patient01</td>\n",
       "      <td>6</td>\n",
       "      <td>2</td>\n",
       "      <td>NaN</td>\n",
       "      <td>NaN</td>\n",
       "      <td>0</td>\n",
       "    </tr>\n",
       "    <tr>\n",
       "      <th>4</th>\n",
       "      <td>6.71372</td>\n",
       "      <td>2.28628</td>\n",
       "      <td>6</td>\n",
       "      <td>3</td>\n",
       "      <td>7</td>\n",
       "      <td>2</td>\n",
       "      <td>Patient02</td>\n",
       "      <td>0</td>\n",
       "      <td>9</td>\n",
       "      <td>1.19188</td>\n",
       "      <td>0.681077</td>\n",
       "      <td>0</td>\n",
       "    </tr>\n",
       "  </tbody>\n",
       "</table>\n",
       "</div>"
      ],
      "text/plain": [
       "  EXPECTED_NSY EXPECTED_SYN NEUTRAL_NSY NEUTRAL_SYN OBSERVED_NSY OBSERVED_SYN  \\\n",
       "0      1.45035      0.54965           2           0            2            0   \n",
       "1      5.79568      2.20432           6           2            6            2   \n",
       "2      2.91357      1.08643           4           0            3            1   \n",
       "3      1.45035      0.54965           2           0            2            0   \n",
       "4      6.71372      2.28628           6           3            7            2   \n",
       "\n",
       "  PATIENT_ID TIME TOTAL      pNS pNS_NEUTRAL  NON_EFFICACIOUS  \n",
       "0  Patient01    0     2      NaN         NaN                0  \n",
       "1  Patient01    2     8  1.14102     1.14102                0  \n",
       "2  Patient01    4     4  1.11866         NaN                0  \n",
       "3  Patient01    6     2      NaN         NaN                0  \n",
       "4  Patient02    0     9  1.19188    0.681077                0  "
      ]
     },
     "execution_count": 124,
     "metadata": {},
     "output_type": "execute_result"
    }
   ],
   "source": [
    "pNS_df = pd.DataFrame(pNS_VAR).T\n",
    "\n",
    "pNS_df['NON_EFFICACIOUS'] = [int(x[-2:] in ['09','10', '11', '12']) for x in list(pNS_df.PATIENT_ID)]\n",
    "\n",
    "pNS_df.head()"
   ]
  },
  {
   "cell_type": "code",
   "execution_count": 125,
   "metadata": {
    "collapsed": false
   },
   "outputs": [
    {
     "name": "stdout",
     "output_type": "stream",
     "text": [
      "MannwhitneyuResult(statistic=120.0, pvalue=0.28824253275134826)\n",
      "MannwhitneyuResult(statistic=32.0, pvalue=1.1021145867119461e-05)\n",
      "MannwhitneyuResult(statistic=59.0, pvalue=0.00015247255002366869)\n",
      "MannwhitneyuResult(statistic=1.0, pvalue=2.3474362824769387e-05)\n"
     ]
    },
    {
     "data": {
      "image/png": "[encoded data removed]",
      "text/plain": [
       "<matplotlib.figure.Figure at 0x10ac9a390>"
      ]
     },
     "metadata": {},
     "output_type": "display_data"
    }
   ],
   "source": [
    "plt.figure('pNS boxplots', figsize=(8,8))\n",
    "_NE = [list(pNS_df[x][\n",
    "            (pNS_df[x]>0)&(pNS_df.NON_EFFICACIOUS==1)&\n",
    "            (pNS_df.TIME!='FIXED')]) for x in ['pNS', 'pNS_NEUTRAL']]\n",
    "_E = [list(pNS_df[x][\n",
    "            (pNS_df[x]>0)&(pNS_df.NON_EFFICACIOUS==0)&\n",
    "            (pNS_df.TIME!='FIXED')]) for x in ['pNS', 'pNS_NEUTRAL']]\n",
    "\n",
    "_F = [list(pNS_df[x][\n",
    "            (pNS_df[x]>0)&(pNS_df.TIME=='FIXED')]) for x in ['pNS', 'pNS_NEUTRAL']]\n",
    "\n",
    "plt.hlines(1,0,7,linestyles='dotted')\n",
    "plt.boxplot(_F+_E+_NE)\n",
    "\n",
    "print(ss.mannwhitneyu(_NE[0],_NE[1]))\n",
    "print(ss.mannwhitneyu(_E[0],_E[1]))\n",
    "print(ss.mannwhitneyu(_E[0],_NE[0]))\n",
    "print(ss.mannwhitneyu(_F[0],_F[1]))"
   ]
  },
  {
   "cell_type": "code",
   "execution_count": 127,
   "metadata": {
    "collapsed": true
   },
   "outputs": [],
   "source": [
    "pNS_df.to_csv('../data/interim/5_pNS_patients.csv')"
   ]
  },
  {
   "cell_type": "code",
   "execution_count": 3,
   "metadata": {
    "collapsed": true
   },
   "outputs": [],
   "source": [
    "pNS_df = pd.read_csv('../data/interim/5_pNS_patients.csv', index_col=0)"
   ]
  },
  {
   "cell_type": "markdown",
   "metadata": {
    "collapsed": true
   },
   "source": [
    "### Publication figure"
   ]
  },
  {
   "cell_type": "code",
   "execution_count": 6,
   "metadata": {
    "collapsed": false
   },
   "outputs": [
    {
     "data": {
      "image/png": "[encoded data removed]",
      "text/plain": [
       "<matplotlib.figure.Figure at 0x1094615c0>"
      ]
     },
     "metadata": {},
     "output_type": "display_data"
    }
   ],
   "source": [
    "plt.figure('pNS_composite2', figsize=double_column_figure_r)\n",
    "\n",
    "plt.subplot2grid((5,15), (0,0), rowspan=5, colspan=5) \n",
    "#makes a split figure - 5x15 quadrants. The first figure \n",
    "#starts in the first column of the 1st row and spans 5 rows and 5 columns.\n",
    "\n",
    "#PLOT pNS for fSNPs\n",
    "plt.hlines(1,0,3, linestyles='dotted')\n",
    "bp1 = plt.boxplot([list(pNS_df.pNS[(pNS_df.TIME=='FIXED')&\n",
    "                                   (pNS_df.pNS>0)]), \n",
    "                   list(pNS_df.pNS_NEUTRAL[(pNS_df.TIME=='FIXED')&\n",
    "                                           (pNS_df.pNS_NEUTRAL>0)])], \n",
    "                  patch_artist=True, widths=.5)\n",
    "\n",
    "#MODIFY THE PARAMETERS OF THE BOX PLOT\n",
    "for box in bp1['boxes']:\n",
    "    box.set(color='black',lw=2)\n",
    "\n",
    "for whisker in bp1['whiskers']:\n",
    "    whisker.set(color='black', linestyle='solid',lw=2)\n",
    "\n",
    "for median in bp1['medians']:\n",
    "    median.set(color='black', lw=2)\n",
    "    \n",
    "for cap in bp1['caps']:\n",
    "    cap.set(color='black',lw=2)\n",
    "    \n",
    "for flier in bp1['fliers']:\n",
    "    flier.set(marker='+', color='black', mew=1.5, mfc='white', ms=10)\n",
    "    \n",
    "fc = ['sienna', 'tan']\n",
    "for ind in range(2):\n",
    "    bp1['boxes'][ind].set(facecolor = fc[ind])\n",
    "    \n",
    "plt.ylabel('pNS', size=label_size)\n",
    "plt.yticks(np.arange(0,4,.5),size=tick_size)\n",
    "plt.xticks([1,2],['Observed','Neutral\\n'],size=label_size)\n",
    "plt.ylim(0,4)\n",
    "#plt.title('All\\npatients', size=16)\n",
    "plt.title('A', size=14, loc='left')\n",
    "\n",
    "plt.hlines(3.3,1,2, linestyles='solid')\n",
    "plt.text(1.5,3.35,'p < 0.001', size=label_size,horizontalalignment='center')\n",
    "\n",
    "plt.subplot2grid((5,15), (0,5), rowspan=5, colspan=5)\n",
    "\n",
    "plt.hlines(1,0,5, linestyles='dotted')\n",
    "bp2 = plt.boxplot([list(pNS_df.pNS[(pNS_df.NON_EFFICACIOUS==0)&\n",
    "                                   (pNS_df.pNS>0)&(pNS_df.TIME!='FIXED')]), \n",
    "                   list(pNS_df.pNS_NEUTRAL[(pNS_df.NON_EFFICACIOUS==0)&\n",
    "                                           (pNS_df.pNS_NEUTRAL>0)&\n",
    "                                           (pNS_df.TIME!='FIXED')])\n",
    "                  ],\n",
    "                  patch_artist=True, widths=.5)\n",
    "\n",
    "for box in bp2['boxes']:\n",
    "    box.set(color='black',lw=2)\n",
    "\n",
    "for whisker in bp2['whiskers']:\n",
    "    whisker.set(color='black', linestyle='solid',lw=2)\n",
    "\n",
    "for median in bp2['medians']:\n",
    "    median.set(color='black', lw=2)\n",
    "    \n",
    "for cap in bp2['caps']:\n",
    "    cap.set(color='black',lw=2)\n",
    "    \n",
    "for flier in bp2['fliers']:\n",
    "    flier.set(marker='+', color='black', mew=1.5, mfc='white', ms=10)\n",
    "    \n",
    "fc = ['red','salmon', 'red', 'salmon']    \n",
    "for ind in range(2):\n",
    "    bp2['boxes'][ind].set(facecolor = fc[ind])\n",
    "    \n",
    "\n",
    "plt.xticks([1,2],['Observed','Neutral'],size=label_size)\n",
    "plt.ylim(0,4)\n",
    "plt.yticks(np.arange(0,4,.5), [], size=tick_size)\n",
    "#plt.title('Efficacious\\ntreatment', size=16)\n",
    "plt.title('B', size=14, loc='left')\n",
    "plt.xlabel('SNP source', size=label_size)\n",
    "\n",
    "plt.hlines(3.3,1,2, linestyles='solid')\n",
    "plt.text(1.5,3.35, 'p < 0.001', size=label_size, horizontalalignment='center')\n",
    "\n",
    "plt.subplot2grid((5,15), (0,10), rowspan=5, colspan=5)\n",
    "\n",
    "plt.hlines(1,0,5, linestyles='dotted')\n",
    "bp3 = plt.boxplot([list(pNS_df.pNS[(pNS_df.NON_EFFICACIOUS==1)&\n",
    "                                   (pNS_df.pNS>0)&\n",
    "                                   (pNS_df.TIME!='FIXED')]), \n",
    "                   list(pNS_df.pNS_NEUTRAL[(pNS_df.NON_EFFICACIOUS==1)&\n",
    "                                           (pNS_df.pNS_NEUTRAL>0)&\n",
    "                                           (pNS_df.TIME!='FIXED')])\n",
    "                   ],\n",
    "                  patch_artist=True, widths=.5)\n",
    "\n",
    "for box in bp3['boxes']:\n",
    "    box.set(color='black',lw=2)\n",
    "\n",
    "for whisker in bp3['whiskers']:\n",
    "    whisker.set(color='black', linestyle='solid',lw=2)\n",
    "\n",
    "for median in bp3['medians']:\n",
    "    median.set(color='black', lw=2)\n",
    "    \n",
    "for cap in bp3['caps']:\n",
    "    cap.set(color='black',lw=2)\n",
    "    \n",
    "for flier in bp3['fliers']:\n",
    "    flier.set(marker='+', color='black', mew=1.5, mfc='white', ms=10)\n",
    "    \n",
    "fc = ['grey','silver','grey', 'silver']\n",
    "for ind in range(2):\n",
    "    bp3['boxes'][ind].set(facecolor = fc[ind])\n",
    "    \n",
    "\n",
    "plt.xticks([1,2],['Observed','Neutral'],size=label_size)\n",
    "plt.ylim(0,4)\n",
    "plt.yticks(np.arange(0,4,.5), [], size=tick_size)\n",
    "#plt.title('Non-efficacious\\ntreatment', size=16)\n",
    "plt.title('C', size=14, loc='left')\n",
    "\n",
    "plt.hlines(3.3,1,2, linestyles='solid')\n",
    "#plt.text(1.5,3.35, 'p = 0.42', size=16,horizontalalignment='center')\n",
    "plt.text(1.5,3.35, 'n.s.', size=label_size ,horizontalalignment='center')\n",
    "\n",
    "#plt.subplots_adjust(bottom=0.2)\n",
    "plt.tight_layout()\n",
    "\n",
    "plt.savefig('../reports/figures/5_pNS.pdf')\n",
    "#plt.savefig('../reports/figures/5_pNS.png',dpi=300)"
   ]
  },
  {
   "cell_type": "markdown",
   "metadata": {},
   "source": [
    "## Conclusion\n",
    "Based on these findings we can conlcude that efficaciously treated patients indeed have a much lower pNS than would be expected under the assumption of neutrality - as suggested by MC modelling. This echoes the expected outcome for fSNPs (expectations based on published results). This is not the case for ineffectively treated patients."
   ]
  },
  {
   "cell_type": "code",
   "execution_count": null,
   "metadata": {
    "collapsed": true
   },
   "outputs": [],
   "source": []
  }
 ],
 "metadata": {
  "kernelspec": {
   "display_name": "Python 3",
   "language": "python",
   "name": "python3"
  },
  "language_info": {
   "codemirror_mode": {
    "name": "ipython",
    "version": 3
   },
   "file_extension": ".py",
   "mimetype": "text/x-python",
   "name": "python",
   "nbconvert_exporter": "python",
   "pygments_lexer": "ipython3",
   "version": "3.5.1"
  }
 },
 "nbformat": 4,
 "nbformat_minor": 1
}
