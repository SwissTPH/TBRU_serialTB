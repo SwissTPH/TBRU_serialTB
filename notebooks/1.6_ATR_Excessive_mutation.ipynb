{
 "cells": [
  {
   "cell_type": "markdown",
   "metadata": {},
   "source": [
    "# Excess mutation determination\n",
    "\n",
    "Use pre-defined genesets implied in different aspects of antibiotic resistance to determine whether we observe any analogous signatures of positive selection."
   ]
  },
  {
   "cell_type": "code",
   "execution_count": 1,
   "metadata": {
    "collapsed": true
   },
   "outputs": [],
   "source": [
    "#Python core packages\n",
    "from collections import Counter\n",
    "import string\n",
    "import pickle\n",
    "import datetime\n",
    "import warnings\n",
    "warnings.filterwarnings(\"ignore\")\n",
    "\n",
    "#Additional Python packages\n",
    "import tqdm\n",
    "\n",
    "#Scientific packages\n",
    "from scipy import stats as ss\n",
    "import numpy as np\n",
    "import matplotlib as mpl\n",
    "import matplotlib.pyplot as plt\n",
    "from sklearn import utils as sku\n",
    "import pandas as pd\n",
    "import statsmodels.api as sm\n",
    "import statsmodels.formula.api as smf\n",
    "\n",
    "mpl.rcParams['font.family']='Arial'\n",
    "mpl.rcParams['legend.numpoints'] = 1\n",
    "\n",
    "%matplotlib inline"
   ]
  },
  {
   "cell_type": "code",
   "execution_count": 2,
   "metadata": {
    "collapsed": false
   },
   "outputs": [
    {
     "name": "stdout",
     "output_type": "stream",
     "text": [
      "/Users/Zuco/Documents/Work/BC2_home/160803_serial_deepseq/src/data\n",
      "/Users/Zuco/Documents/Work/BC2_home/160803_serial_deepseq/notebooks\n"
     ]
    }
   ],
   "source": [
    "#LOAD FUNCTIONS\n",
    "%cd '../src/data/'\n",
    "import serial_functions as serf\n",
    "%cd '../../notebooks'\n",
    "\n",
    "#LOAD DATA\n",
    "EXTERNAL_PATH = '../data/external/'\n",
    "PROCESSED_PATH = '../data/processed/'\n",
    "\n",
    "ALL = pd.read_csv('{}ALLELE_data.csv'.format(PROCESSED_PATH), index_col=0)\n",
    "EGS = pd.read_csv('{}PREDEFINED_gene_sets.csv'.format(EXTERNAL_PATH), index_col=0)"
   ]
  },
  {
   "cell_type": "code",
   "execution_count": 3,
   "metadata": {
    "collapsed": false
   },
   "outputs": [],
   "source": [
    "#Prepare the necessary resources from the MTBC genome\n",
    "REF_ANNOTATIONS = {}\n",
    "for line in open('{}H37Rv_annotation2sytems.ptt'.format(EXTERNAL_PATH)):\n",
    "    split = line.strip().split('\\t')\n",
    "    if len(split)<=6 and len(split)>3 and split[0][0].isdigit():\n",
    "        REF_ANNOTATIONS[int(split[1])-1] = [int(split[2]), split[3], split[4]]\n",
    "    if len(split)>6 and split[0][0].isdigit():\n",
    "        REF_ANNOTATIONS[int(split[1])-1] = [int(split[2]), split[3], split[7]]\n",
    "\n",
    "LOCUS_MATRIX = np.array([[k,v[0]] for (k,v) in REF_ANNOTATIONS.items()], dtype=float)\n",
    "LOCUS_MATRIX = LOCUS_MATRIX[np.argsort(LOCUS_MATRIX[:,0])]\n",
    "\n",
    "LOCI = np.array([REF_ANNOTATIONS[int(x)][-1] for x in LOCUS_MATRIX[:,0]])\n",
    "SIZE_DICT = {x:float(LOCUS_MATRIX[ind][1])-LOCUS_MATRIX[ind][0] for (ind,x) in enumerate(LOCI)}       \n",
    "MTB_GENOME = ''.join([line.strip() for line in open('{}MTB_anc.fa'.format(EXTERNAL_PATH)) if line[0]!='>'])  "
   ]
  },
  {
   "cell_type": "code",
   "execution_count": 4,
   "metadata": {
    "collapsed": true
   },
   "outputs": [],
   "source": [
    "#Define the excluded geneset (Coscolla et al, 2015)\n",
    "excluded = list(EGS.GENE[EGS.GENE_SET=='Excluded'])\n",
    "\n",
    "#Define the drug resistance associated gene set (Farhat et al, 2013 \"approach overlap genes\"\n",
    "# and Zhang et al 2013 - \"Drug resistance group 1\")\n",
    "DR_set = list(EGS.GENE[(EGS.GENE_SET=='DR_associated')&(EGS.EXCLUDED==0)])\n",
    "\n",
    "#Define the T-cell antigen gene set (Coscolla et al, 2015)\n",
    "AG_set = list(EGS.GENE[(EGS.GENE_SET=='Antigens')&(EGS.EXCLUDED==0)])\n",
    "\n",
    "#Define the drug resistance gene set (Walker et al, 2015)\n",
    "Walker_DR = list(EGS.GENE[(EGS.GENE_SET=='DR_genes')&(EGS.EXCLUDED==0)])\n",
    "\n",
    "#Define Mycolate superpathway genes (O'Neill et al, 2015)\n",
    "ONeillMycolate = list(EGS.GENE[(EGS.GENE_SET=='Mycolate_superpathway')&(EGS.EXCLUDED==0)])\n"
   ]
  },
  {
   "cell_type": "markdown",
   "metadata": {},
   "source": [
    "## Drug resistance genes\n",
    "As defined by Walker et al."
   ]
  },
  {
   "cell_type": "code",
   "execution_count": 5,
   "metadata": {
    "collapsed": false
   },
   "outputs": [
    {
     "name": "stdout",
     "output_type": "stream",
     "text": [
      "WALKER DR GENESET\n",
      "\n",
      "OOOO\tEfficaciously treated\tOOOO\n",
      "--- COUNTS ---\n",
      "SNPS AT DIAGNOSIS:\n",
      "[[ 1  0]\n",
      " [25 17]]\n",
      "\n",
      "SNPS DURING TREATMENT:\n",
      "[[ 0  0]\n",
      " [66 34]]\n",
      "\n",
      "--- STATISTICS ---\n",
      "Excess binomial: 0.501\n",
      "Excess NSY: 1.000\n",
      "\n",
      "OOOO\tNon-efficaciously treated\tOOOO\n",
      "--- COUNTS ---\n",
      "SNPS AT DIAGNOSIS:\n",
      "[[ 0  0]\n",
      " [55 24]]\n",
      "\n",
      "SNPS DURING TREATMENT:\n",
      "[[ 5  0]\n",
      " [58 24]]\n",
      "\n",
      "--- STATISTICS ---\n",
      "Excess binomial: 0.001\n",
      "Excess NSY: 0.177\n",
      "\n"
     ]
    }
   ],
   "source": [
    "DR_output_E = serf.excess_mutation(Walker_DR, ALL[(ALL.NON_EFFICACIOUS==0)], \n",
    "                               len(MTB_GENOME), SIZE_DICT, exclude_check=excluded)\n",
    "DR_output_NE = serf.excess_mutation(Walker_DR, ALL[(ALL.NON_EFFICACIOUS==1)], \n",
    "                               len(MTB_GENOME), SIZE_DICT, exclude_check=excluded)\n",
    "\n",
    "print('WALKER DR GENESET\\n')\n",
    "print('OOOO\\tEfficaciously treated\\tOOOO')\n",
    "print('--- COUNTS ---')\n",
    "print('SNPS AT DIAGNOSIS:\\n%s\\n' % DR_output_E['Data'][0])\n",
    "print('SNPS DURING TREATMENT:\\n%s\\n' % DR_output_E['Data'][1])\n",
    "print('--- STATISTICS ---')\n",
    "print('Excess binomial: %.3f' % DR_output_E['Excess_binomial'])\n",
    "print('Excess NSY: %.3f\\n' % DR_output_E['NS_binomial'])\n",
    "\n",
    "print('OOOO\\tNon-efficaciously treated\\tOOOO')\n",
    "print('--- COUNTS ---')\n",
    "print('SNPS AT DIAGNOSIS:\\n%s\\n' % DR_output_NE['Data'][0])\n",
    "print('SNPS DURING TREATMENT:\\n%s\\n' % DR_output_NE['Data'][1])\n",
    "print('--- STATISTICS ---')\n",
    "print('Excess binomial: %.3f' % DR_output_NE['Excess_binomial'])\n",
    "print('Excess NSY: %.3f\\n' % DR_output_NE['NS_binomial'])"
   ]
  },
  {
   "cell_type": "markdown",
   "metadata": {},
   "source": [
    "## Drug resistance associated genes\n",
    "As defined by an apparent signature of positive selection. See Farhat et al, Nature Genetics 2012 and Zhang et al, Nature Genetics 2012."
   ]
  },
  {
   "cell_type": "code",
   "execution_count": 8,
   "metadata": {
    "collapsed": false
   },
   "outputs": [
    {
     "name": "stdout",
     "output_type": "stream",
     "text": [
      "DR-associated GENESET\n",
      "\n",
      "OOOO\tEfficaciously treated\tOOOO\n",
      "--- COUNTS ---\n",
      "SNPS AT DIAGNOSIS:\n",
      "[[ 0  1]\n",
      " [26 16]]\n",
      "\n",
      "SNPS DURING TREATMENT:\n",
      "[[ 4  6]\n",
      " [62 28]]\n",
      "\n",
      "--- STATISTICS ---\n",
      "Excess binomial: 0.545\n",
      "Excess NSY: 0.987\n",
      "\n",
      "OOOO\tNon-efficaciously treated\tOOOO\n",
      "--- COUNTS ---\n",
      "SNPS AT DIAGNOSIS:\n",
      "[[ 2  0]\n",
      " [53 24]]\n",
      "\n",
      "SNPS DURING TREATMENT:\n",
      "[[ 6  0]\n",
      " [57 24]]\n",
      "\n",
      "--- STATISTICS ---\n",
      "Excess binomial: 0.946\n",
      "Excess NSY: 0.121\n",
      "\n"
     ]
    }
   ],
   "source": [
    "DR_output_E = serf.excess_mutation(DR_set, ALL[(ALL.NON_EFFICACIOUS==0)], \n",
    "                               len(MTB_GENOME), SIZE_DICT, exclude_check=excluded)\n",
    "DR_output_NE = serf.excess_mutation(DR_set, ALL[(ALL.NON_EFFICACIOUS==1)], \n",
    "                               len(MTB_GENOME), SIZE_DICT, exclude_check=excluded)\n",
    "\n",
    "print('DR-associated GENESET\\n')\n",
    "print('OOOO\\tEfficaciously treated\\tOOOO')\n",
    "print('--- COUNTS ---')\n",
    "print('SNPS AT DIAGNOSIS:\\n%s\\n' % DR_output_E['Data'][0])\n",
    "print('SNPS DURING TREATMENT:\\n%s\\n' % DR_output_E['Data'][1])\n",
    "print('--- STATISTICS ---')\n",
    "print('Excess binomial: %.3f' % DR_output_E['Excess_binomial'])\n",
    "print('Excess NSY: %.3f\\n' % DR_output_E['NS_binomial'])\n",
    "\n",
    "print('OOOO\\tNon-efficaciously treated\\tOOOO')\n",
    "print('--- COUNTS ---')\n",
    "print('SNPS AT DIAGNOSIS:\\n%s\\n' % DR_output_NE['Data'][0])\n",
    "print('SNPS DURING TREATMENT:\\n%s\\n' % DR_output_NE['Data'][1])\n",
    "print('--- STATISTICS ---')\n",
    "print('Excess binomial: %.3f' % DR_output_NE['Excess_binomial'])\n",
    "print('Excess NSY: %.3f\\n' % DR_output_NE['NS_binomial'])"
   ]
  },
  {
   "cell_type": "markdown",
   "metadata": {},
   "source": [
    "## Mycolate superpathway \n",
    "The whole geneset as identified by O'Neill et al."
   ]
  },
  {
   "cell_type": "code",
   "execution_count": 9,
   "metadata": {
    "collapsed": false
   },
   "outputs": [
    {
     "name": "stdout",
     "output_type": "stream",
     "text": [
      "Mycolate superpathway\n",
      "\n",
      "OOOO\tEfficaciously treated\tOOOO\n",
      "--- COUNTS ---\n",
      "SNPS AT DIAGNOSIS:\n",
      "[[ 0  0]\n",
      " [26 17]]\n",
      "\n",
      "SNPS DURING TREATMENT:\n",
      "[[ 1  2]\n",
      " [65 32]]\n",
      "\n",
      "--- STATISTICS ---\n",
      "Excess binomial: 0.881\n",
      "Excess NSY: 0.964\n",
      "\n",
      "OOOO\tNon-efficaciously treated\tOOOO\n",
      "--- COUNTS ---\n",
      "SNPS AT DIAGNOSIS:\n",
      "[[ 3  0]\n",
      " [52 24]]\n",
      "\n",
      "SNPS DURING TREATMENT:\n",
      "[[ 3  2]\n",
      " [60 22]]\n",
      "\n",
      "--- STATISTICS ---\n",
      "Excess binomial: 0.229\n",
      "Excess NSY: 0.876\n",
      "\n"
     ]
    }
   ],
   "source": [
    "output_E = serf.excess_mutation(ONeillMycolate, ALL[(ALL.NON_EFFICACIOUS==0)], \n",
    "                               len(MTB_GENOME), SIZE_DICT, exclude_check=excluded)\n",
    "output_NE = serf.excess_mutation(ONeillMycolate, ALL[(ALL.NON_EFFICACIOUS==1)], \n",
    "                               len(MTB_GENOME), SIZE_DICT, exclude_check=excluded)\n",
    "\n",
    "print('Mycolate superpathway\\n')\n",
    "print('OOOO\\tEfficaciously treated\\tOOOO')\n",
    "print('--- COUNTS ---')\n",
    "print('SNPS AT DIAGNOSIS:\\n%s\\n' % output_E['Data'][0])\n",
    "print('SNPS DURING TREATMENT:\\n%s\\n' % output_E['Data'][1])\n",
    "print('--- STATISTICS ---')\n",
    "print('Excess binomial: %.3f' % output_E['Excess_binomial'])\n",
    "print('Excess NSY: %.3f\\n' % output_E['NS_binomial'])\n",
    "\n",
    "print('OOOO\\tNon-efficaciously treated\\tOOOO')\n",
    "print('--- COUNTS ---')\n",
    "print('SNPS AT DIAGNOSIS:\\n%s\\n' % output_NE['Data'][0])\n",
    "print('SNPS DURING TREATMENT:\\n%s\\n' % output_NE['Data'][1])\n",
    "print('--- STATISTICS ---')\n",
    "print('Excess binomial: %.3f' % output_NE['Excess_binomial'])\n",
    "print('Excess NSY: %.3f\\n' % output_NE['NS_binomial'])"
   ]
  },
  {
   "cell_type": "markdown",
   "metadata": {
    "collapsed": true
   },
   "source": [
    "## T-cell antigens\n",
    "The immune system may shape the populations. The set of antigens is based on Coscolla et al."
   ]
  },
  {
   "cell_type": "code",
   "execution_count": 10,
   "metadata": {
    "collapsed": false
   },
   "outputs": [
    {
     "name": "stdout",
     "output_type": "stream",
     "text": [
      "T-cell antigens\n",
      "\n",
      "OOOO\tEfficaciously treated\tOOOO\n",
      "--- COUNTS ---\n",
      "SNPS AT DIAGNOSIS:\n",
      "[[ 4  0]\n",
      " [22 17]]\n",
      "\n",
      "SNPS DURING TREATMENT:\n",
      "[[10  4]\n",
      " [56 30]]\n",
      "\n",
      "--- STATISTICS ---\n",
      "Excess binomial: 0.153\n",
      "Excess NSY: 0.426\n",
      "\n",
      "OOOO\tNon-efficaciously treated\tOOOO\n",
      "--- COUNTS ---\n",
      "SNPS AT DIAGNOSIS:\n",
      "[[ 7  3]\n",
      " [48 21]]\n",
      "\n",
      "SNPS DURING TREATMENT:\n",
      "[[ 6  0]\n",
      " [57 24]]\n",
      "\n",
      "--- STATISTICS ---\n",
      "Excess binomial: 0.550\n",
      "Excess NSY: 0.121\n",
      "\n"
     ]
    }
   ],
   "source": [
    "output_E = serf.excess_mutation(AG_set, ALL[(ALL.NON_EFFICACIOUS==0)], \n",
    "                               len(MTB_GENOME), SIZE_DICT, exclude_check=excluded)\n",
    "output_NE = serf.excess_mutation(AG_set, ALL[(ALL.NON_EFFICACIOUS==1)], \n",
    "                               len(MTB_GENOME), SIZE_DICT, exclude_check=excluded)\n",
    "\n",
    "print('T-cell antigens\\n')\n",
    "print('OOOO\\tEfficaciously treated\\tOOOO')\n",
    "print('--- COUNTS ---')\n",
    "print('SNPS AT DIAGNOSIS:\\n%s\\n' % output_E['Data'][0])\n",
    "print('SNPS DURING TREATMENT:\\n%s\\n' % output_E['Data'][1])\n",
    "print('--- STATISTICS ---')\n",
    "print('Excess binomial: %.3f' % output_E['Excess_binomial'])\n",
    "print('Excess NSY: %.3f\\n' % output_E['NS_binomial'])\n",
    "\n",
    "print('OOOO\\tNon-efficaciously treated\\tOOOO')\n",
    "print('--- COUNTS ---')\n",
    "print('SNPS AT DIAGNOSIS:\\n%s\\n' % output_NE['Data'][0])\n",
    "print('SNPS DURING TREATMENT:\\n%s\\n' % output_NE['Data'][1])\n",
    "print('--- STATISTICS ---')\n",
    "print('Excess binomial: %.3f' % output_NE['Excess_binomial'])\n",
    "print('Excess NSY: %.3f\\n' % output_NE['NS_binomial'])"
   ]
  },
  {
   "cell_type": "code",
   "execution_count": null,
   "metadata": {
    "collapsed": true
   },
   "outputs": [],
   "source": []
  }
 ],
 "metadata": {
  "kernelspec": {
   "display_name": "Python 3",
   "language": "python",
   "name": "python3"
  },
  "language_info": {
   "codemirror_mode": {
    "name": "ipython",
    "version": 3
   },
   "file_extension": ".py",
   "mimetype": "text/x-python",
   "name": "python",
   "nbconvert_exporter": "python",
   "pygments_lexer": "ipython3",
   "version": "3.5.1"
  }
 },
 "nbformat": 4,
 "nbformat_minor": 1
}
